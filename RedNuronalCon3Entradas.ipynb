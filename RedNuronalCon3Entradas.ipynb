{
  "nbformat": 4,
  "nbformat_minor": 0,
  "metadata": {
    "colab": {
      "name": " RedNuronalCon3Entradas.ipynb",
      "provenance": []
    },
    "kernelspec": {
      "name": "python3",
      "display_name": "Python 3"
    },
    "language_info": {
      "name": "python"
    }
  },
  "cells": [
    {
      "cell_type": "code",
      "execution_count": 1,
      "metadata": {
        "id": "xcju0H8q687R"
      },
      "outputs": [],
      "source": [
        "import pandas as pd\n",
        "from sklearn.model_selection import train_test_split\n",
        "import matplotlib.pyplot as plt\n",
        "from sklearn.metrics import classification_report, confusion_matrix \n",
        "import seaborn as sns\n",
        "from sklearn import metrics\n",
        "import numpy as np\n",
        "from keras import models\n",
        "from keras import layers\n",
        "from keras.wrappers.scikit_learn import KerasClassifier\n",
        "from sklearn.model_selection import cross_val_score\n",
        "from keras import backend as K\n",
        "%matplotlib inline"
      ]
    },
    {
      "cell_type": "code",
      "source": [
        "datos = pd.read_excel(\"DatosLimpios_AllFeatures.xlsx\", names=[\"rango1\",\"rango2\",\"rango3\",\"rango4\",\"rango5\",\"Femenino\",\"Masculino\",'Animado', 'Confiable', 'Extravertido', 'Responsable', 'Serio','estilo'])\n",
        "datos"
      ],
      "metadata": {
        "colab": {
          "base_uri": "https://localhost:8080/",
          "height": 424
        },
        "id": "VimJIQ_wXb_g",
        "outputId": "b87584bf-7eae-42e3-a9b5-e0a9920fd7e9"
      },
      "execution_count": 2,
      "outputs": [
        {
          "output_type": "execute_result",
          "data": {
            "text/html": [
              "\n",
              "  <div id=\"df-f708571d-dedc-4cda-a156-42a8ae63ba91\">\n",
              "    <div class=\"colab-df-container\">\n",
              "      <div>\n",
              "<style scoped>\n",
              "    .dataframe tbody tr th:only-of-type {\n",
              "        vertical-align: middle;\n",
              "    }\n",
              "\n",
              "    .dataframe tbody tr th {\n",
              "        vertical-align: top;\n",
              "    }\n",
              "\n",
              "    .dataframe thead th {\n",
              "        text-align: right;\n",
              "    }\n",
              "</style>\n",
              "<table border=\"1\" class=\"dataframe\">\n",
              "  <thead>\n",
              "    <tr style=\"text-align: right;\">\n",
              "      <th></th>\n",
              "      <th>rango1</th>\n",
              "      <th>rango2</th>\n",
              "      <th>rango3</th>\n",
              "      <th>rango4</th>\n",
              "      <th>rango5</th>\n",
              "      <th>Femenino</th>\n",
              "      <th>Masculino</th>\n",
              "      <th>Animado</th>\n",
              "      <th>Confiable</th>\n",
              "      <th>Extravertido</th>\n",
              "      <th>Responsable</th>\n",
              "      <th>Serio</th>\n",
              "      <th>estilo</th>\n",
              "    </tr>\n",
              "  </thead>\n",
              "  <tbody>\n",
              "    <tr>\n",
              "      <th>5</th>\n",
              "      <td>0</td>\n",
              "      <td>1</td>\n",
              "      <td>0</td>\n",
              "      <td>0</td>\n",
              "      <td>0</td>\n",
              "      <td>0</td>\n",
              "      <td>1</td>\n",
              "      <td>1</td>\n",
              "      <td>0</td>\n",
              "      <td>0</td>\n",
              "      <td>0</td>\n",
              "      <td>0</td>\n",
              "      <td>1</td>\n",
              "    </tr>\n",
              "    <tr>\n",
              "      <th>6</th>\n",
              "      <td>0</td>\n",
              "      <td>1</td>\n",
              "      <td>0</td>\n",
              "      <td>0</td>\n",
              "      <td>0</td>\n",
              "      <td>0</td>\n",
              "      <td>1</td>\n",
              "      <td>0</td>\n",
              "      <td>0</td>\n",
              "      <td>0</td>\n",
              "      <td>1</td>\n",
              "      <td>0</td>\n",
              "      <td>1</td>\n",
              "    </tr>\n",
              "    <tr>\n",
              "      <th>11</th>\n",
              "      <td>0</td>\n",
              "      <td>0</td>\n",
              "      <td>0</td>\n",
              "      <td>0</td>\n",
              "      <td>1</td>\n",
              "      <td>1</td>\n",
              "      <td>0</td>\n",
              "      <td>0</td>\n",
              "      <td>0</td>\n",
              "      <td>0</td>\n",
              "      <td>0</td>\n",
              "      <td>1</td>\n",
              "      <td>1</td>\n",
              "    </tr>\n",
              "    <tr>\n",
              "      <th>12</th>\n",
              "      <td>0</td>\n",
              "      <td>0</td>\n",
              "      <td>1</td>\n",
              "      <td>0</td>\n",
              "      <td>0</td>\n",
              "      <td>0</td>\n",
              "      <td>1</td>\n",
              "      <td>0</td>\n",
              "      <td>0</td>\n",
              "      <td>0</td>\n",
              "      <td>0</td>\n",
              "      <td>1</td>\n",
              "      <td>1</td>\n",
              "    </tr>\n",
              "    <tr>\n",
              "      <th>13</th>\n",
              "      <td>0</td>\n",
              "      <td>1</td>\n",
              "      <td>0</td>\n",
              "      <td>0</td>\n",
              "      <td>0</td>\n",
              "      <td>1</td>\n",
              "      <td>0</td>\n",
              "      <td>1</td>\n",
              "      <td>0</td>\n",
              "      <td>0</td>\n",
              "      <td>0</td>\n",
              "      <td>0</td>\n",
              "      <td>1</td>\n",
              "    </tr>\n",
              "    <tr>\n",
              "      <th>...</th>\n",
              "      <td>...</td>\n",
              "      <td>...</td>\n",
              "      <td>...</td>\n",
              "      <td>...</td>\n",
              "      <td>...</td>\n",
              "      <td>...</td>\n",
              "      <td>...</td>\n",
              "      <td>...</td>\n",
              "      <td>...</td>\n",
              "      <td>...</td>\n",
              "      <td>...</td>\n",
              "      <td>...</td>\n",
              "      <td>...</td>\n",
              "    </tr>\n",
              "    <tr>\n",
              "      <th>2197</th>\n",
              "      <td>0</td>\n",
              "      <td>0</td>\n",
              "      <td>0</td>\n",
              "      <td>1</td>\n",
              "      <td>0</td>\n",
              "      <td>1</td>\n",
              "      <td>0</td>\n",
              "      <td>0</td>\n",
              "      <td>0</td>\n",
              "      <td>0</td>\n",
              "      <td>1</td>\n",
              "      <td>0</td>\n",
              "      <td>0</td>\n",
              "    </tr>\n",
              "    <tr>\n",
              "      <th>2200</th>\n",
              "      <td>0</td>\n",
              "      <td>0</td>\n",
              "      <td>0</td>\n",
              "      <td>0</td>\n",
              "      <td>1</td>\n",
              "      <td>0</td>\n",
              "      <td>1</td>\n",
              "      <td>0</td>\n",
              "      <td>1</td>\n",
              "      <td>0</td>\n",
              "      <td>0</td>\n",
              "      <td>0</td>\n",
              "      <td>0</td>\n",
              "    </tr>\n",
              "    <tr>\n",
              "      <th>2201</th>\n",
              "      <td>1</td>\n",
              "      <td>0</td>\n",
              "      <td>0</td>\n",
              "      <td>0</td>\n",
              "      <td>0</td>\n",
              "      <td>1</td>\n",
              "      <td>0</td>\n",
              "      <td>1</td>\n",
              "      <td>0</td>\n",
              "      <td>0</td>\n",
              "      <td>0</td>\n",
              "      <td>0</td>\n",
              "      <td>1</td>\n",
              "    </tr>\n",
              "    <tr>\n",
              "      <th>2204</th>\n",
              "      <td>0</td>\n",
              "      <td>0</td>\n",
              "      <td>1</td>\n",
              "      <td>0</td>\n",
              "      <td>0</td>\n",
              "      <td>0</td>\n",
              "      <td>1</td>\n",
              "      <td>1</td>\n",
              "      <td>0</td>\n",
              "      <td>0</td>\n",
              "      <td>0</td>\n",
              "      <td>0</td>\n",
              "      <td>1</td>\n",
              "    </tr>\n",
              "    <tr>\n",
              "      <th>2205</th>\n",
              "      <td>0</td>\n",
              "      <td>0</td>\n",
              "      <td>0</td>\n",
              "      <td>1</td>\n",
              "      <td>0</td>\n",
              "      <td>1</td>\n",
              "      <td>0</td>\n",
              "      <td>1</td>\n",
              "      <td>0</td>\n",
              "      <td>0</td>\n",
              "      <td>0</td>\n",
              "      <td>0</td>\n",
              "      <td>1</td>\n",
              "    </tr>\n",
              "  </tbody>\n",
              "</table>\n",
              "<p>749 rows × 13 columns</p>\n",
              "</div>\n",
              "      <button class=\"colab-df-convert\" onclick=\"convertToInteractive('df-f708571d-dedc-4cda-a156-42a8ae63ba91')\"\n",
              "              title=\"Convert this dataframe to an interactive table.\"\n",
              "              style=\"display:none;\">\n",
              "        \n",
              "  <svg xmlns=\"http://www.w3.org/2000/svg\" height=\"24px\"viewBox=\"0 0 24 24\"\n",
              "       width=\"24px\">\n",
              "    <path d=\"M0 0h24v24H0V0z\" fill=\"none\"/>\n",
              "    <path d=\"M18.56 5.44l.94 2.06.94-2.06 2.06-.94-2.06-.94-.94-2.06-.94 2.06-2.06.94zm-11 1L8.5 8.5l.94-2.06 2.06-.94-2.06-.94L8.5 2.5l-.94 2.06-2.06.94zm10 10l.94 2.06.94-2.06 2.06-.94-2.06-.94-.94-2.06-.94 2.06-2.06.94z\"/><path d=\"M17.41 7.96l-1.37-1.37c-.4-.4-.92-.59-1.43-.59-.52 0-1.04.2-1.43.59L10.3 9.45l-7.72 7.72c-.78.78-.78 2.05 0 2.83L4 21.41c.39.39.9.59 1.41.59.51 0 1.02-.2 1.41-.59l7.78-7.78 2.81-2.81c.8-.78.8-2.07 0-2.86zM5.41 20L4 18.59l7.72-7.72 1.47 1.35L5.41 20z\"/>\n",
              "  </svg>\n",
              "      </button>\n",
              "      \n",
              "  <style>\n",
              "    .colab-df-container {\n",
              "      display:flex;\n",
              "      flex-wrap:wrap;\n",
              "      gap: 12px;\n",
              "    }\n",
              "\n",
              "    .colab-df-convert {\n",
              "      background-color: #E8F0FE;\n",
              "      border: none;\n",
              "      border-radius: 50%;\n",
              "      cursor: pointer;\n",
              "      display: none;\n",
              "      fill: #1967D2;\n",
              "      height: 32px;\n",
              "      padding: 0 0 0 0;\n",
              "      width: 32px;\n",
              "    }\n",
              "\n",
              "    .colab-df-convert:hover {\n",
              "      background-color: #E2EBFA;\n",
              "      box-shadow: 0px 1px 2px rgba(60, 64, 67, 0.3), 0px 1px 3px 1px rgba(60, 64, 67, 0.15);\n",
              "      fill: #174EA6;\n",
              "    }\n",
              "\n",
              "    [theme=dark] .colab-df-convert {\n",
              "      background-color: #3B4455;\n",
              "      fill: #D2E3FC;\n",
              "    }\n",
              "\n",
              "    [theme=dark] .colab-df-convert:hover {\n",
              "      background-color: #434B5C;\n",
              "      box-shadow: 0px 1px 3px 1px rgba(0, 0, 0, 0.15);\n",
              "      filter: drop-shadow(0px 1px 2px rgba(0, 0, 0, 0.3));\n",
              "      fill: #FFFFFF;\n",
              "    }\n",
              "  </style>\n",
              "\n",
              "      <script>\n",
              "        const buttonEl =\n",
              "          document.querySelector('#df-f708571d-dedc-4cda-a156-42a8ae63ba91 button.colab-df-convert');\n",
              "        buttonEl.style.display =\n",
              "          google.colab.kernel.accessAllowed ? 'block' : 'none';\n",
              "\n",
              "        async function convertToInteractive(key) {\n",
              "          const element = document.querySelector('#df-f708571d-dedc-4cda-a156-42a8ae63ba91');\n",
              "          const dataTable =\n",
              "            await google.colab.kernel.invokeFunction('convertToInteractive',\n",
              "                                                     [key], {});\n",
              "          if (!dataTable) return;\n",
              "\n",
              "          const docLinkHtml = 'Like what you see? Visit the ' +\n",
              "            '<a target=\"_blank\" href=https://colab.research.google.com/notebooks/data_table.ipynb>data table notebook</a>'\n",
              "            + ' to learn more about interactive tables.';\n",
              "          element.innerHTML = '';\n",
              "          dataTable['output_type'] = 'display_data';\n",
              "          await google.colab.output.renderOutput(dataTable, element);\n",
              "          const docLink = document.createElement('div');\n",
              "          docLink.innerHTML = docLinkHtml;\n",
              "          element.appendChild(docLink);\n",
              "        }\n",
              "      </script>\n",
              "    </div>\n",
              "  </div>\n",
              "  "
            ],
            "text/plain": [
              "      rango1  rango2  rango3  rango4  ...  Extravertido  Responsable  Serio  estilo\n",
              "5          0       1       0       0  ...             0            0      0       1\n",
              "6          0       1       0       0  ...             0            1      0       1\n",
              "11         0       0       0       0  ...             0            0      1       1\n",
              "12         0       0       1       0  ...             0            0      1       1\n",
              "13         0       1       0       0  ...             0            0      0       1\n",
              "...      ...     ...     ...     ...  ...           ...          ...    ...     ...\n",
              "2197       0       0       0       1  ...             0            1      0       0\n",
              "2200       0       0       0       0  ...             0            0      0       0\n",
              "2201       1       0       0       0  ...             0            0      0       1\n",
              "2204       0       0       1       0  ...             0            0      0       1\n",
              "2205       0       0       0       1  ...             0            0      0       1\n",
              "\n",
              "[749 rows x 13 columns]"
            ]
          },
          "metadata": {},
          "execution_count": 2
        }
      ]
    },
    {
      "cell_type": "code",
      "source": [
        "datos = datos.values\n",
        "X = datos[:, :-1]\n",
        "y = datos[:,-1]"
      ],
      "metadata": {
        "id": "cnKY4cGMYfk_"
      },
      "execution_count": 3,
      "outputs": []
    },
    {
      "cell_type": "code",
      "source": [
        "X_train, X_test, y_train, y_test = train_test_split(X, y, test_size = 0.30, random_state = 101)"
      ],
      "metadata": {
        "id": "9EK1phxAYsIN"
      },
      "execution_count": 4,
      "outputs": []
    },
    {
      "cell_type": "code",
      "source": [
        "\n",
        "def recall_m(y_true, y_pred):\n",
        "    true_positives = K.sum(K.round(K.clip(y_true * y_pred, 0, 1)))\n",
        "    possible_positives = K.sum(K.round(K.clip(y_true, 0, 1)))\n",
        "    recall = true_positives / (possible_positives + K.epsilon())\n",
        "    return recall\n",
        "\n",
        "def precision_m(y_true, y_pred):\n",
        "    true_positives = K.sum(K.round(K.clip(y_true * y_pred, 0, 1)))\n",
        "    predicted_positives = K.sum(K.round(K.clip(y_pred, 0, 1)))\n",
        "    precision = true_positives / (predicted_positives + K.epsilon())\n",
        "    return precision\n",
        "\n",
        "def f1_m(y_true, y_pred):\n",
        "    precision = precision_m(y_true, y_pred)\n",
        "    recall = recall_m(y_true, y_pred)\n",
        "    return 2*((precision*recall)/(precision+recall+K.epsilon()))"
      ],
      "metadata": {
        "id": "tHltG9bN8xgu"
      },
      "execution_count": 5,
      "outputs": []
    },
    {
      "cell_type": "code",
      "source": [
        "\n",
        "from sklearn.metrics import confusion_matrix\n",
        "# Start neural network\n",
        "network = models.Sequential()\n",
        "\n",
        "# Add fully connected layer with a ReLU activation function\n",
        "network.add(layers.Dense(units=12, activation='relu', input_shape=(12,)))\n",
        "network.add(layers.Dense(units=6))\n",
        "# Add fully connected layer with a sigmoid activation function\n",
        "network.add(layers.Dense(units=1,activation='sigmoid'))\n",
        "\n",
        "\n",
        "# Compile neural network\n",
        "network.compile(loss='binary_crossentropy', #mean_squared_error\n",
        "                    optimizer='Adam', # Root Mean Square Propagation\n",
        "                    metrics=['accuracy',f1_m,precision_m, recall_m]) # Accuracy performance metric\n",
        "# Return compiled network\n",
        "Hist=network.fit(X_train, y_train, epochs=100, batch_size=10)\n"
      ],
      "metadata": {
        "id": "W0A-dLPM8yOz",
        "colab": {
          "base_uri": "https://localhost:8080/"
        },
        "outputId": "132685da-ddd2-4370-a4cf-d6cae246730c"
      },
      "execution_count": 6,
      "outputs": [
        {
          "output_type": "stream",
          "name": "stdout",
          "text": [
            "Epoch 1/100\n",
            "53/53 [==============================] - 2s 3ms/step - loss: 0.6664 - accuracy: 0.5802 - f1_m: 0.5643 - precision_m: 0.5840 - recall_m: 0.5908\n",
            "Epoch 2/100\n",
            "53/53 [==============================] - 0s 3ms/step - loss: 0.6360 - accuracy: 0.6336 - f1_m: 0.6730 - precision_m: 0.6335 - recall_m: 0.7575\n",
            "Epoch 3/100\n",
            "53/53 [==============================] - 0s 4ms/step - loss: 0.6153 - accuracy: 0.6489 - f1_m: 0.6709 - precision_m: 0.6502 - recall_m: 0.7350\n",
            "Epoch 4/100\n",
            "53/53 [==============================] - 0s 5ms/step - loss: 0.5952 - accuracy: 0.6908 - f1_m: 0.7297 - precision_m: 0.6730 - recall_m: 0.8391\n",
            "Epoch 5/100\n",
            "53/53 [==============================] - 0s 3ms/step - loss: 0.5766 - accuracy: 0.7137 - f1_m: 0.7467 - precision_m: 0.7049 - recall_m: 0.8277\n",
            "Epoch 6/100\n",
            "53/53 [==============================] - 0s 3ms/step - loss: 0.5597 - accuracy: 0.7252 - f1_m: 0.7504 - precision_m: 0.7131 - recall_m: 0.8227\n",
            "Epoch 7/100\n",
            "53/53 [==============================] - 0s 2ms/step - loss: 0.5480 - accuracy: 0.7271 - f1_m: 0.7463 - precision_m: 0.7191 - recall_m: 0.8233\n",
            "Epoch 8/100\n",
            "53/53 [==============================] - 0s 3ms/step - loss: 0.5388 - accuracy: 0.7290 - f1_m: 0.7535 - precision_m: 0.7302 - recall_m: 0.8225\n",
            "Epoch 9/100\n",
            "53/53 [==============================] - 0s 2ms/step - loss: 0.5316 - accuracy: 0.7347 - f1_m: 0.7659 - precision_m: 0.7080 - recall_m: 0.8788\n",
            "Epoch 10/100\n",
            "53/53 [==============================] - 0s 3ms/step - loss: 0.5258 - accuracy: 0.7290 - f1_m: 0.7610 - precision_m: 0.7108 - recall_m: 0.8598\n",
            "Epoch 11/100\n",
            "53/53 [==============================] - 0s 3ms/step - loss: 0.5233 - accuracy: 0.7405 - f1_m: 0.7609 - precision_m: 0.7164 - recall_m: 0.8652\n",
            "Epoch 12/100\n",
            "53/53 [==============================] - 0s 4ms/step - loss: 0.5216 - accuracy: 0.7462 - f1_m: 0.7943 - precision_m: 0.7275 - recall_m: 0.9116\n",
            "Epoch 13/100\n",
            "53/53 [==============================] - 0s 2ms/step - loss: 0.5197 - accuracy: 0.7424 - f1_m: 0.7859 - precision_m: 0.7325 - recall_m: 0.8929\n",
            "Epoch 14/100\n",
            "53/53 [==============================] - 0s 3ms/step - loss: 0.5183 - accuracy: 0.7443 - f1_m: 0.7690 - precision_m: 0.7058 - recall_m: 0.8831\n",
            "Epoch 15/100\n",
            "53/53 [==============================] - 0s 3ms/step - loss: 0.5181 - accuracy: 0.7424 - f1_m: 0.7742 - precision_m: 0.7083 - recall_m: 0.9052\n",
            "Epoch 16/100\n",
            "53/53 [==============================] - 0s 5ms/step - loss: 0.5169 - accuracy: 0.7366 - f1_m: 0.7752 - precision_m: 0.7086 - recall_m: 0.8963\n",
            "Epoch 17/100\n",
            "53/53 [==============================] - 0s 3ms/step - loss: 0.5156 - accuracy: 0.7481 - f1_m: 0.7712 - precision_m: 0.7200 - recall_m: 0.8668\n",
            "Epoch 18/100\n",
            "53/53 [==============================] - 0s 3ms/step - loss: 0.5152 - accuracy: 0.7462 - f1_m: 0.7882 - precision_m: 0.7173 - recall_m: 0.9084\n",
            "Epoch 19/100\n",
            "53/53 [==============================] - 0s 3ms/step - loss: 0.5143 - accuracy: 0.7481 - f1_m: 0.7754 - precision_m: 0.7138 - recall_m: 0.8903\n",
            "Epoch 20/100\n",
            "53/53 [==============================] - 0s 3ms/step - loss: 0.5139 - accuracy: 0.7462 - f1_m: 0.7742 - precision_m: 0.7155 - recall_m: 0.8891\n",
            "Epoch 21/100\n",
            "53/53 [==============================] - 0s 3ms/step - loss: 0.5138 - accuracy: 0.7405 - f1_m: 0.7791 - precision_m: 0.7095 - recall_m: 0.8971\n",
            "Epoch 22/100\n",
            "53/53 [==============================] - 0s 4ms/step - loss: 0.5131 - accuracy: 0.7443 - f1_m: 0.7785 - precision_m: 0.7297 - recall_m: 0.8809\n",
            "Epoch 23/100\n",
            "53/53 [==============================] - 0s 3ms/step - loss: 0.5130 - accuracy: 0.7481 - f1_m: 0.7779 - precision_m: 0.7176 - recall_m: 0.8929\n",
            "Epoch 24/100\n",
            "53/53 [==============================] - 0s 4ms/step - loss: 0.5119 - accuracy: 0.7500 - f1_m: 0.7825 - precision_m: 0.7183 - recall_m: 0.8896\n",
            "Epoch 25/100\n",
            "53/53 [==============================] - 0s 4ms/step - loss: 0.5124 - accuracy: 0.7443 - f1_m: 0.7809 - precision_m: 0.7309 - recall_m: 0.8827\n",
            "Epoch 26/100\n",
            "53/53 [==============================] - 0s 3ms/step - loss: 0.5120 - accuracy: 0.7405 - f1_m: 0.7813 - precision_m: 0.7163 - recall_m: 0.8928\n",
            "Epoch 27/100\n",
            "53/53 [==============================] - 0s 3ms/step - loss: 0.5117 - accuracy: 0.7424 - f1_m: 0.7737 - precision_m: 0.7109 - recall_m: 0.8889\n",
            "Epoch 28/100\n",
            "53/53 [==============================] - 0s 3ms/step - loss: 0.5108 - accuracy: 0.7443 - f1_m: 0.7664 - precision_m: 0.7149 - recall_m: 0.8730\n",
            "Epoch 29/100\n",
            "53/53 [==============================] - 0s 3ms/step - loss: 0.5103 - accuracy: 0.7481 - f1_m: 0.7740 - precision_m: 0.7226 - recall_m: 0.8690\n",
            "Epoch 30/100\n",
            "53/53 [==============================] - 0s 3ms/step - loss: 0.5096 - accuracy: 0.7424 - f1_m: 0.7655 - precision_m: 0.6952 - recall_m: 0.8833\n",
            "Epoch 31/100\n",
            "53/53 [==============================] - 0s 4ms/step - loss: 0.5096 - accuracy: 0.7462 - f1_m: 0.7728 - precision_m: 0.7118 - recall_m: 0.8763\n",
            "Epoch 32/100\n",
            "53/53 [==============================] - 0s 5ms/step - loss: 0.5092 - accuracy: 0.7500 - f1_m: 0.7699 - precision_m: 0.7249 - recall_m: 0.8607\n",
            "Epoch 33/100\n",
            "53/53 [==============================] - 0s 3ms/step - loss: 0.5091 - accuracy: 0.7462 - f1_m: 0.7819 - precision_m: 0.7190 - recall_m: 0.8971\n",
            "Epoch 34/100\n",
            "53/53 [==============================] - 0s 3ms/step - loss: 0.5082 - accuracy: 0.7481 - f1_m: 0.7673 - precision_m: 0.7199 - recall_m: 0.8522\n",
            "Epoch 35/100\n",
            "53/53 [==============================] - 0s 2ms/step - loss: 0.5080 - accuracy: 0.7481 - f1_m: 0.7659 - precision_m: 0.7018 - recall_m: 0.8815\n",
            "Epoch 36/100\n",
            "53/53 [==============================] - 0s 4ms/step - loss: 0.5078 - accuracy: 0.7443 - f1_m: 0.7730 - precision_m: 0.7141 - recall_m: 0.8857\n",
            "Epoch 37/100\n",
            "53/53 [==============================] - 0s 4ms/step - loss: 0.5064 - accuracy: 0.7462 - f1_m: 0.7826 - precision_m: 0.7162 - recall_m: 0.8934\n",
            "Epoch 38/100\n",
            "53/53 [==============================] - 0s 3ms/step - loss: 0.5078 - accuracy: 0.7405 - f1_m: 0.7675 - precision_m: 0.7012 - recall_m: 0.8855\n",
            "Epoch 39/100\n",
            "53/53 [==============================] - 0s 2ms/step - loss: 0.5071 - accuracy: 0.7443 - f1_m: 0.7793 - precision_m: 0.7227 - recall_m: 0.8692\n",
            "Epoch 40/100\n",
            "53/53 [==============================] - 0s 2ms/step - loss: 0.5074 - accuracy: 0.7405 - f1_m: 0.7671 - precision_m: 0.7060 - recall_m: 0.8678\n",
            "Epoch 41/100\n",
            "53/53 [==============================] - 0s 3ms/step - loss: 0.5059 - accuracy: 0.7481 - f1_m: 0.7816 - precision_m: 0.7168 - recall_m: 0.9007\n",
            "Epoch 42/100\n",
            "53/53 [==============================] - 0s 3ms/step - loss: 0.5064 - accuracy: 0.7481 - f1_m: 0.7650 - precision_m: 0.7291 - recall_m: 0.8610\n",
            "Epoch 43/100\n",
            "53/53 [==============================] - 0s 2ms/step - loss: 0.5051 - accuracy: 0.7443 - f1_m: 0.7695 - precision_m: 0.7134 - recall_m: 0.8725\n",
            "Epoch 44/100\n",
            "53/53 [==============================] - 0s 3ms/step - loss: 0.5053 - accuracy: 0.7519 - f1_m: 0.7832 - precision_m: 0.7136 - recall_m: 0.8856\n",
            "Epoch 45/100\n",
            "53/53 [==============================] - 0s 3ms/step - loss: 0.5062 - accuracy: 0.7481 - f1_m: 0.7783 - precision_m: 0.7167 - recall_m: 0.8953\n",
            "Epoch 46/100\n",
            "53/53 [==============================] - 0s 3ms/step - loss: 0.5055 - accuracy: 0.7462 - f1_m: 0.7687 - precision_m: 0.7240 - recall_m: 0.8634\n",
            "Epoch 47/100\n",
            "53/53 [==============================] - 0s 3ms/step - loss: 0.5043 - accuracy: 0.7519 - f1_m: 0.7734 - precision_m: 0.7148 - recall_m: 0.8854\n",
            "Epoch 48/100\n",
            "53/53 [==============================] - 0s 3ms/step - loss: 0.5033 - accuracy: 0.7443 - f1_m: 0.7857 - precision_m: 0.7357 - recall_m: 0.8784\n",
            "Epoch 49/100\n",
            "53/53 [==============================] - 0s 4ms/step - loss: 0.5038 - accuracy: 0.7557 - f1_m: 0.7770 - precision_m: 0.7158 - recall_m: 0.8815\n",
            "Epoch 50/100\n",
            "53/53 [==============================] - 0s 3ms/step - loss: 0.5038 - accuracy: 0.7538 - f1_m: 0.7708 - precision_m: 0.7154 - recall_m: 0.8715\n",
            "Epoch 51/100\n",
            "53/53 [==============================] - 0s 3ms/step - loss: 0.5027 - accuracy: 0.7481 - f1_m: 0.7767 - precision_m: 0.7313 - recall_m: 0.8670\n",
            "Epoch 52/100\n",
            "53/53 [==============================] - 0s 3ms/step - loss: 0.5024 - accuracy: 0.7576 - f1_m: 0.7878 - precision_m: 0.7461 - recall_m: 0.8715\n",
            "Epoch 53/100\n",
            "53/53 [==============================] - 0s 3ms/step - loss: 0.5039 - accuracy: 0.7462 - f1_m: 0.7782 - precision_m: 0.7212 - recall_m: 0.8846\n",
            "Epoch 54/100\n",
            "53/53 [==============================] - 0s 4ms/step - loss: 0.5031 - accuracy: 0.7500 - f1_m: 0.7752 - precision_m: 0.7212 - recall_m: 0.8778\n",
            "Epoch 55/100\n",
            "53/53 [==============================] - 0s 3ms/step - loss: 0.5030 - accuracy: 0.7481 - f1_m: 0.7699 - precision_m: 0.7053 - recall_m: 0.8882\n",
            "Epoch 56/100\n",
            "53/53 [==============================] - 0s 3ms/step - loss: 0.5025 - accuracy: 0.7481 - f1_m: 0.7802 - precision_m: 0.7345 - recall_m: 0.8737\n",
            "Epoch 57/100\n",
            "53/53 [==============================] - 0s 3ms/step - loss: 0.5023 - accuracy: 0.7443 - f1_m: 0.7779 - precision_m: 0.7174 - recall_m: 0.8820\n",
            "Epoch 58/100\n",
            "53/53 [==============================] - 0s 3ms/step - loss: 0.5021 - accuracy: 0.7405 - f1_m: 0.7736 - precision_m: 0.7372 - recall_m: 0.8696\n",
            "Epoch 59/100\n",
            "53/53 [==============================] - 0s 3ms/step - loss: 0.5033 - accuracy: 0.7557 - f1_m: 0.7834 - precision_m: 0.7525 - recall_m: 0.8562\n",
            "Epoch 60/100\n",
            "53/53 [==============================] - 0s 3ms/step - loss: 0.5010 - accuracy: 0.7500 - f1_m: 0.7888 - precision_m: 0.7258 - recall_m: 0.8908\n",
            "Epoch 61/100\n",
            "53/53 [==============================] - 0s 3ms/step - loss: 0.5003 - accuracy: 0.7519 - f1_m: 0.7761 - precision_m: 0.7366 - recall_m: 0.8645\n",
            "Epoch 62/100\n",
            "53/53 [==============================] - 0s 3ms/step - loss: 0.5006 - accuracy: 0.7462 - f1_m: 0.7763 - precision_m: 0.7210 - recall_m: 0.8784\n",
            "Epoch 63/100\n",
            "53/53 [==============================] - 0s 3ms/step - loss: 0.4999 - accuracy: 0.7519 - f1_m: 0.7739 - precision_m: 0.7297 - recall_m: 0.8569\n",
            "Epoch 64/100\n",
            "53/53 [==============================] - 0s 3ms/step - loss: 0.5001 - accuracy: 0.7481 - f1_m: 0.7718 - precision_m: 0.7130 - recall_m: 0.8745\n",
            "Epoch 65/100\n",
            "53/53 [==============================] - 0s 3ms/step - loss: 0.5008 - accuracy: 0.7519 - f1_m: 0.7720 - precision_m: 0.7199 - recall_m: 0.8764\n",
            "Epoch 66/100\n",
            "53/53 [==============================] - 0s 3ms/step - loss: 0.4996 - accuracy: 0.7500 - f1_m: 0.7750 - precision_m: 0.7275 - recall_m: 0.8591\n",
            "Epoch 67/100\n",
            "53/53 [==============================] - 0s 5ms/step - loss: 0.4993 - accuracy: 0.7500 - f1_m: 0.7743 - precision_m: 0.7290 - recall_m: 0.8627\n",
            "Epoch 68/100\n",
            "53/53 [==============================] - 0s 3ms/step - loss: 0.4998 - accuracy: 0.7576 - f1_m: 0.7861 - precision_m: 0.7265 - recall_m: 0.8824\n",
            "Epoch 69/100\n",
            "53/53 [==============================] - 0s 3ms/step - loss: 0.5001 - accuracy: 0.7481 - f1_m: 0.7667 - precision_m: 0.7309 - recall_m: 0.8457\n",
            "Epoch 70/100\n",
            "53/53 [==============================] - 0s 4ms/step - loss: 0.4998 - accuracy: 0.7462 - f1_m: 0.7771 - precision_m: 0.7288 - recall_m: 0.8784\n",
            "Epoch 71/100\n",
            "53/53 [==============================] - 0s 5ms/step - loss: 0.5008 - accuracy: 0.7500 - f1_m: 0.7771 - precision_m: 0.7136 - recall_m: 0.8908\n",
            "Epoch 72/100\n",
            "53/53 [==============================] - 0s 6ms/step - loss: 0.4987 - accuracy: 0.7538 - f1_m: 0.7710 - precision_m: 0.7391 - recall_m: 0.8465\n",
            "Epoch 73/100\n",
            "53/53 [==============================] - 0s 4ms/step - loss: 0.4984 - accuracy: 0.7500 - f1_m: 0.7656 - precision_m: 0.7196 - recall_m: 0.8484\n",
            "Epoch 74/100\n",
            "53/53 [==============================] - 0s 4ms/step - loss: 0.4979 - accuracy: 0.7557 - f1_m: 0.7707 - precision_m: 0.7302 - recall_m: 0.8532\n",
            "Epoch 75/100\n",
            "53/53 [==============================] - 0s 6ms/step - loss: 0.4986 - accuracy: 0.7538 - f1_m: 0.7915 - precision_m: 0.7258 - recall_m: 0.9004\n",
            "Epoch 76/100\n",
            "53/53 [==============================] - 0s 4ms/step - loss: 0.4979 - accuracy: 0.7519 - f1_m: 0.7748 - precision_m: 0.7386 - recall_m: 0.8519\n",
            "Epoch 77/100\n",
            "53/53 [==============================] - 0s 5ms/step - loss: 0.4987 - accuracy: 0.7557 - f1_m: 0.7854 - precision_m: 0.7157 - recall_m: 0.9174\n",
            "Epoch 78/100\n",
            "53/53 [==============================] - 0s 3ms/step - loss: 0.4974 - accuracy: 0.7519 - f1_m: 0.7758 - precision_m: 0.7458 - recall_m: 0.8461\n",
            "Epoch 79/100\n",
            "53/53 [==============================] - 0s 2ms/step - loss: 0.4961 - accuracy: 0.7557 - f1_m: 0.7783 - precision_m: 0.7304 - recall_m: 0.8632\n",
            "Epoch 80/100\n",
            "53/53 [==============================] - 0s 4ms/step - loss: 0.4965 - accuracy: 0.7500 - f1_m: 0.7825 - precision_m: 0.7268 - recall_m: 0.8925\n",
            "Epoch 81/100\n",
            "53/53 [==============================] - 0s 3ms/step - loss: 0.4971 - accuracy: 0.7424 - f1_m: 0.7675 - precision_m: 0.7268 - recall_m: 0.8631\n",
            "Epoch 82/100\n",
            "53/53 [==============================] - 0s 3ms/step - loss: 0.4965 - accuracy: 0.7481 - f1_m: 0.7673 - precision_m: 0.7167 - recall_m: 0.8646\n",
            "Epoch 83/100\n",
            "53/53 [==============================] - 0s 3ms/step - loss: 0.4969 - accuracy: 0.7500 - f1_m: 0.7648 - precision_m: 0.7516 - recall_m: 0.8112\n",
            "Epoch 84/100\n",
            "53/53 [==============================] - 0s 3ms/step - loss: 0.4962 - accuracy: 0.7557 - f1_m: 0.7806 - precision_m: 0.7242 - recall_m: 0.8755\n",
            "Epoch 85/100\n",
            "53/53 [==============================] - 0s 3ms/step - loss: 0.4961 - accuracy: 0.7595 - f1_m: 0.7780 - precision_m: 0.7527 - recall_m: 0.8534\n",
            "Epoch 86/100\n",
            "53/53 [==============================] - 0s 2ms/step - loss: 0.4955 - accuracy: 0.7538 - f1_m: 0.7807 - precision_m: 0.7345 - recall_m: 0.8745\n",
            "Epoch 87/100\n",
            "53/53 [==============================] - 0s 3ms/step - loss: 0.4951 - accuracy: 0.7538 - f1_m: 0.7792 - precision_m: 0.7358 - recall_m: 0.8701\n",
            "Epoch 88/100\n",
            "53/53 [==============================] - 0s 2ms/step - loss: 0.4954 - accuracy: 0.7576 - f1_m: 0.7833 - precision_m: 0.7540 - recall_m: 0.8566\n",
            "Epoch 89/100\n",
            "53/53 [==============================] - 0s 2ms/step - loss: 0.4943 - accuracy: 0.7519 - f1_m: 0.7706 - precision_m: 0.7221 - recall_m: 0.8574\n",
            "Epoch 90/100\n",
            "53/53 [==============================] - 0s 3ms/step - loss: 0.4951 - accuracy: 0.7481 - f1_m: 0.7636 - precision_m: 0.7109 - recall_m: 0.8562\n",
            "Epoch 91/100\n",
            "53/53 [==============================] - 0s 3ms/step - loss: 0.4959 - accuracy: 0.7595 - f1_m: 0.7753 - precision_m: 0.7626 - recall_m: 0.8306\n",
            "Epoch 92/100\n",
            "53/53 [==============================] - 0s 2ms/step - loss: 0.4946 - accuracy: 0.7595 - f1_m: 0.7821 - precision_m: 0.7487 - recall_m: 0.8562\n",
            "Epoch 93/100\n",
            "53/53 [==============================] - 0s 3ms/step - loss: 0.4946 - accuracy: 0.7615 - f1_m: 0.7871 - precision_m: 0.7411 - recall_m: 0.8795\n",
            "Epoch 94/100\n",
            "53/53 [==============================] - 0s 2ms/step - loss: 0.4949 - accuracy: 0.7557 - f1_m: 0.7615 - precision_m: 0.7375 - recall_m: 0.8199\n",
            "Epoch 95/100\n",
            "53/53 [==============================] - 0s 2ms/step - loss: 0.4959 - accuracy: 0.7557 - f1_m: 0.7798 - precision_m: 0.7396 - recall_m: 0.8692\n",
            "Epoch 96/100\n",
            "53/53 [==============================] - 0s 2ms/step - loss: 0.4964 - accuracy: 0.7615 - f1_m: 0.7790 - precision_m: 0.7551 - recall_m: 0.8465\n",
            "Epoch 97/100\n",
            "53/53 [==============================] - 0s 2ms/step - loss: 0.4945 - accuracy: 0.7595 - f1_m: 0.7865 - precision_m: 0.7432 - recall_m: 0.8611\n",
            "Epoch 98/100\n",
            "53/53 [==============================] - 0s 2ms/step - loss: 0.4946 - accuracy: 0.7576 - f1_m: 0.7761 - precision_m: 0.7476 - recall_m: 0.8344\n",
            "Epoch 99/100\n",
            "53/53 [==============================] - 0s 2ms/step - loss: 0.4940 - accuracy: 0.7557 - f1_m: 0.7706 - precision_m: 0.7400 - recall_m: 0.8523\n",
            "Epoch 100/100\n",
            "53/53 [==============================] - 0s 2ms/step - loss: 0.4938 - accuracy: 0.7557 - f1_m: 0.7539 - precision_m: 0.7369 - recall_m: 0.8042\n"
          ]
        }
      ]
    },
    {
      "cell_type": "code",
      "source": [
        "# Evaluacion del modelo con los datos de prueba\n",
        "scores = network.evaluate(X_test, y_test, verbose=0)\n",
        "# Presentacion de Accurary del modelo\n",
        "print(\"\\n%s: %.2f%%\" % (network.metrics_names[1], scores[1]*100))\n",
        "# Presentacion de F1 del modelo\n",
        "print(\"\\n%s: %.2f%%\" % (network.metrics_names[2], scores[2]*100))\n",
        "# Presentacion de la Precision del modelo\n",
        "print(\"\\n%s: %.2f%%\" % (network.metrics_names[3], scores[3]*100))\n",
        "# Presentacion del Recall del modelo\n",
        "print(\"\\n%s: %.2f%%\" % (network.metrics_names[4], scores[4]*100))"
      ],
      "metadata": {
        "colab": {
          "base_uri": "https://localhost:8080/"
        },
        "id": "s7cUJ5LcL2LO",
        "outputId": "9669871c-780b-4db9-f35e-ae006e3009a0"
      },
      "execution_count": 7,
      "outputs": [
        {
          "output_type": "stream",
          "name": "stdout",
          "text": [
            "\n",
            "accuracy: 64.44%\n",
            "\n",
            "f1_m: 60.26%\n",
            "\n",
            "precision_m: 55.45%\n",
            "\n",
            "recall_m: 69.32%\n"
          ]
        }
      ]
    },
    {
      "cell_type": "code",
      "source": [
        "plt.xlabel(\"# Peoca\")\n",
        "plt.ylabel(\"Magnitud de perdida y Accuracy\")\n",
        "plt.plot(Hist.history[\"loss\"])\n",
        "plt.plot(Hist.history[\"accuracy\"])"
      ],
      "metadata": {
        "colab": {
          "base_uri": "https://localhost:8080/",
          "height": 296
        },
        "id": "oRKpCtQC8yMW",
        "outputId": "d4badc16-50f0-4d92-cf9a-f59d2337d06a"
      },
      "execution_count": 8,
      "outputs": [
        {
          "output_type": "execute_result",
          "data": {
            "text/plain": [
              "[<matplotlib.lines.Line2D at 0x7fd78a6158d0>]"
            ]
          },
          "metadata": {},
          "execution_count": 8
        },
        {
          "output_type": "display_data",
          "data": {
            "image/png": "[encoded data removed]",
            "text/plain": [
              "<Figure size 432x288 with 1 Axes>"
            ]
          },
          "metadata": {
            "needs_background": "light"
          }
        }
      ]
    },
    {
      "cell_type": "code",
      "source": [
        "# Se obtiene los valores de prediccion y se grafica la \n",
        "# matriz de confusion\n",
        "y_pred = network.predict(X_test)\n",
        "y_pred =(y_pred>0.5)\n",
        "list(y_pred)\n",
        "cm = confusion_matrix(y_test, y_pred)\n",
        "cm"
      ],
      "metadata": {
        "colab": {
          "base_uri": "https://localhost:8080/"
        },
        "id": "b4Dekj265Asz",
        "outputId": "0dd73463-bfba-4f5d-a056-98f7c5ede4a2"
      },
      "execution_count": 9,
      "outputs": [
        {
          "output_type": "execute_result",
          "data": {
            "text/plain": [
              "array([[53, 55],\n",
              "       [25, 92]])"
            ]
          },
          "metadata": {},
          "execution_count": 9
        }
      ]
    },
    {
      "cell_type": "code",
      "source": [
        "#Graficacion de la matriz de confusion\n",
        "ax = sns.heatmap(cm, annot=True, cmap='Blues')\n",
        "# etiquetas de X e Y\n",
        "ax.set_title('Matrix Confusion');\n",
        "ax.set_xlabel('Y_Pred')\n",
        "ax.set_ylabel('Y_Actual');\n",
        "\n",
        "# Sub etiquetas de X e Y\n",
        "ax.xaxis.set_ticklabels([\"False\",\"True\"])\n",
        "ax.yaxis.set_ticklabels([\"False\",\"True\"])\n",
        "\n",
        "# Se manda a visuluzar la matriz de confusion.\n",
        "plt.show()"
      ],
      "metadata": {
        "colab": {
          "base_uri": "https://localhost:8080/",
          "height": 296
        },
        "id": "d-UaD5-c5Eir",
        "outputId": "ab261ff3-25b5-4b4f-8da3-cc444a7a9ae0"
      },
      "execution_count": 10,
      "outputs": [
        {
          "output_type": "display_data",
          "data": {
            "image/png": "[encoded data removed]",
            "text/plain": [
              "<Figure size 432x288 with 2 Axes>"
            ]
          },
          "metadata": {
            "needs_background": "light"
          }
        }
      ]
    },
    {
      "cell_type": "code",
      "source": [
        "# Se establece la funcion de la red neuronal para ser utilizada por el \n",
        "# CrossFolding\n",
        "def create_network():\n",
        "    network = models.Sequential()\n",
        "    network.add(layers.Dense(units=12, activation='relu', input_shape=(12,)))\n",
        "    network.add(layers.Dense(units=6))\n",
        "    network.add(layers.Dense(units=1,activation='sigmoid'))\n",
        "    network.compile(loss='binary_crossentropy', #mean_squared_error\n",
        "                    optimizer='Adam', # Root Mean Square Propagation\n",
        "                    metrics=['accuracy',f1_m,precision_m, recall_m]) # Accuracy performance metric \n",
        "    return network"
      ],
      "metadata": {
        "id": "5c1bzl-o5VE6"
      },
      "execution_count": 11,
      "outputs": []
    },
    {
      "cell_type": "code",
      "source": [
        "neural_network = KerasClassifier(build_fn=create_network, \n",
        "                                 epochs=200, \n",
        "                                 batch_size=10, \n",
        "                                 verbose=0)"
      ],
      "metadata": {
        "colab": {
          "base_uri": "https://localhost:8080/"
        },
        "id": "n8KQ5YAf8yJ-",
        "outputId": "e19a3e3d-f0a8-47de-ee8d-1a0485bb352a"
      },
      "execution_count": 12,
      "outputs": [
        {
          "output_type": "stream",
          "name": "stderr",
          "text": [
            "/usr/local/lib/python3.7/dist-packages/ipykernel_launcher.py:4: DeprecationWarning: KerasClassifier is deprecated, use Sci-Keras (https://github.com/adriangb/scikeras) instead. See https://www.adriangb.com/scikeras/stable/migration.html for help migrating.\n",
            "  after removing the cwd from sys.path.\n"
          ]
        }
      ]
    },
    {
      "cell_type": "code",
      "source": [
        "# Evaluate neural network using three-fold cross-validation\n",
        "cross_val_score(neural_network, X_test, y_test, cv=3)"
      ],
      "metadata": {
        "colab": {
          "base_uri": "https://localhost:8080/"
        },
        "id": "mCvVm-xb8yHW",
        "outputId": "2cb4c8df-cc98-4924-a7bb-4e29b9f22b64"
      },
      "execution_count": 13,
      "outputs": [
        {
          "output_type": "execute_result",
          "data": {
            "text/plain": [
              "array([0.62666667, 0.65333331, 0.57333332])"
            ]
          },
          "metadata": {},
          "execution_count": 13
        }
      ]
    },
    {
      "cell_type": "code",
      "source": [
        "# Rango1 17-19\n",
        "# Rango2 20-22\n",
        "# Rango3 23-24\n",
        "# Rango4 25 27\n",
        "# Rango5 28-30\n",
        "\n",
        "X_new = pd.DataFrame({'rango1': [1],'rango2': [0],'rango3': [0],'rango4': [0],'rango5': [0],\n",
        "                      'Femenino': [0],'Masculino': [1],\n",
        "                      'Animado': [0], 'Confiable': [0], 'Extravertido': [0], 'Responsable': [1], 'Serio': [0]})\n"
      ],
      "metadata": {
        "id": "npMLhcWy9_ta"
      },
      "execution_count": 14,
      "outputs": []
    },
    {
      "cell_type": "code",
      "source": [
        "# Se pasan los valores de entrada a la red, y esta se encarga de predecir el estilo a vestir\n",
        "\n",
        "Resultado= network.predict([X_new])\n",
        "out= Resultado.round().astype(int)\n",
        "if out == 1:\n",
        "  print(\"Su estilo es casual\")\n",
        "if out == 0:\n",
        "  print(\"Su estilo es modesto\")\n"
      ],
      "metadata": {
        "colab": {
          "base_uri": "https://localhost:8080/"
        },
        "id": "zZd9QPKq8P6C",
        "outputId": "10f382c7-d6ee-4b98-878c-b8d97b313bb7"
      },
      "execution_count": 15,
      "outputs": [
        {
          "output_type": "stream",
          "name": "stdout",
          "text": [
            "Su estilo es modesto\n"
          ]
        }
      ]
    }
  ]
}