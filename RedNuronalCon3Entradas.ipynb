{
  "nbformat": 4,
  "nbformat_minor": 0,
  "metadata": {
    "colab": {
      "name": " RedNuronalCon3Entradas.ipynb",
      "provenance": [],
      "collapsed_sections": []
    },
    "kernelspec": {
      "name": "python3",
      "display_name": "Python 3"
    },
    "language_info": {
      "name": "python"
    }
  },
  "cells": [
    {
      "cell_type": "code",
      "execution_count": 1,
      "metadata": {
        "id": "xcju0H8q687R"
      },
      "outputs": [],
      "source": [
        "import pandas as pd\n",
        "from sklearn.model_selection import train_test_split\n",
        "import matplotlib.pyplot as plt\n",
        "from sklearn.metrics import classification_report, confusion_matrix \n",
        "import seaborn as sns\n",
        "from sklearn import metrics\n",
        "import numpy as np\n",
        "from keras import models\n",
        "from keras import layers\n",
        "from keras.wrappers.scikit_learn import KerasClassifier\n",
        "from sklearn.model_selection import cross_val_score\n",
        "from keras import backend as K\n",
        "%matplotlib inline"
      ]
    },
    {
      "cell_type": "code",
      "source": [
        "datos = pd.read_excel(\"DatosLimpios_AllFeatures.xlsx\", names=[\"rango1\",\"rango2\",\"rango3\",\"rango4\",\"rango5\",\"Femenino\",\"Masculino\",'Animado', 'Confiable', 'Extravertido', 'Responsable', 'Serio','estilo'])\n",
        "datos"
      ],
      "metadata": {
        "colab": {
          "base_uri": "https://localhost:8080/",
          "height": 488
        },
        "id": "VimJIQ_wXb_g",
        "outputId": "852f541e-5a7e-445a-8ad3-2d24472e4594"
      },
      "execution_count": 2,
      "outputs": [
        {
          "output_type": "execute_result",
          "data": {
            "text/html": [
              "\n",
              "  <div id=\"df-88d5c4cf-cda7-403d-a7f3-d1379eaa50ec\">\n",
              "    <div class=\"colab-df-container\">\n",
              "      <div>\n",
              "<style scoped>\n",
              "    .dataframe tbody tr th:only-of-type {\n",
              "        vertical-align: middle;\n",
              "    }\n",
              "\n",
              "    .dataframe tbody tr th {\n",
              "        vertical-align: top;\n",
              "    }\n",
              "\n",
              "    .dataframe thead th {\n",
              "        text-align: right;\n",
              "    }\n",
              "</style>\n",
              "<table border=\"1\" class=\"dataframe\">\n",
              "  <thead>\n",
              "    <tr style=\"text-align: right;\">\n",
              "      <th></th>\n",
              "      <th>rango1</th>\n",
              "      <th>rango2</th>\n",
              "      <th>rango3</th>\n",
              "      <th>rango4</th>\n",
              "      <th>rango5</th>\n",
              "      <th>Femenino</th>\n",
              "      <th>Masculino</th>\n",
              "      <th>Animado</th>\n",
              "      <th>Confiable</th>\n",
              "      <th>Extravertido</th>\n",
              "      <th>Responsable</th>\n",
              "      <th>Serio</th>\n",
              "      <th>estilo</th>\n",
              "    </tr>\n",
              "  </thead>\n",
              "  <tbody>\n",
              "    <tr>\n",
              "      <th>5</th>\n",
              "      <td>0</td>\n",
              "      <td>1</td>\n",
              "      <td>0</td>\n",
              "      <td>0</td>\n",
              "      <td>0</td>\n",
              "      <td>0</td>\n",
              "      <td>1</td>\n",
              "      <td>1</td>\n",
              "      <td>0</td>\n",
              "      <td>0</td>\n",
              "      <td>0</td>\n",
              "      <td>0</td>\n",
              "      <td>1</td>\n",
              "    </tr>\n",
              "    <tr>\n",
              "      <th>6</th>\n",
              "      <td>0</td>\n",
              "      <td>1</td>\n",
              "      <td>0</td>\n",
              "      <td>0</td>\n",
              "      <td>0</td>\n",
              "      <td>0</td>\n",
              "      <td>1</td>\n",
              "      <td>0</td>\n",
              "      <td>0</td>\n",
              "      <td>0</td>\n",
              "      <td>1</td>\n",
              "      <td>0</td>\n",
              "      <td>1</td>\n",
              "    </tr>\n",
              "    <tr>\n",
              "      <th>11</th>\n",
              "      <td>0</td>\n",
              "      <td>0</td>\n",
              "      <td>0</td>\n",
              "      <td>0</td>\n",
              "      <td>1</td>\n",
              "      <td>1</td>\n",
              "      <td>0</td>\n",
              "      <td>0</td>\n",
              "      <td>0</td>\n",
              "      <td>0</td>\n",
              "      <td>0</td>\n",
              "      <td>1</td>\n",
              "      <td>1</td>\n",
              "    </tr>\n",
              "    <tr>\n",
              "      <th>12</th>\n",
              "      <td>0</td>\n",
              "      <td>0</td>\n",
              "      <td>1</td>\n",
              "      <td>0</td>\n",
              "      <td>0</td>\n",
              "      <td>0</td>\n",
              "      <td>1</td>\n",
              "      <td>0</td>\n",
              "      <td>0</td>\n",
              "      <td>0</td>\n",
              "      <td>0</td>\n",
              "      <td>1</td>\n",
              "      <td>1</td>\n",
              "    </tr>\n",
              "    <tr>\n",
              "      <th>13</th>\n",
              "      <td>0</td>\n",
              "      <td>1</td>\n",
              "      <td>0</td>\n",
              "      <td>0</td>\n",
              "      <td>0</td>\n",
              "      <td>1</td>\n",
              "      <td>0</td>\n",
              "      <td>1</td>\n",
              "      <td>0</td>\n",
              "      <td>0</td>\n",
              "      <td>0</td>\n",
              "      <td>0</td>\n",
              "      <td>1</td>\n",
              "    </tr>\n",
              "    <tr>\n",
              "      <th>...</th>\n",
              "      <td>...</td>\n",
              "      <td>...</td>\n",
              "      <td>...</td>\n",
              "      <td>...</td>\n",
              "      <td>...</td>\n",
              "      <td>...</td>\n",
              "      <td>...</td>\n",
              "      <td>...</td>\n",
              "      <td>...</td>\n",
              "      <td>...</td>\n",
              "      <td>...</td>\n",
              "      <td>...</td>\n",
              "      <td>...</td>\n",
              "    </tr>\n",
              "    <tr>\n",
              "      <th>2197</th>\n",
              "      <td>0</td>\n",
              "      <td>0</td>\n",
              "      <td>0</td>\n",
              "      <td>1</td>\n",
              "      <td>0</td>\n",
              "      <td>1</td>\n",
              "      <td>0</td>\n",
              "      <td>0</td>\n",
              "      <td>0</td>\n",
              "      <td>0</td>\n",
              "      <td>1</td>\n",
              "      <td>0</td>\n",
              "      <td>0</td>\n",
              "    </tr>\n",
              "    <tr>\n",
              "      <th>2200</th>\n",
              "      <td>0</td>\n",
              "      <td>0</td>\n",
              "      <td>0</td>\n",
              "      <td>0</td>\n",
              "      <td>1</td>\n",
              "      <td>0</td>\n",
              "      <td>1</td>\n",
              "      <td>0</td>\n",
              "      <td>1</td>\n",
              "      <td>0</td>\n",
              "      <td>0</td>\n",
              "      <td>0</td>\n",
              "      <td>0</td>\n",
              "    </tr>\n",
              "    <tr>\n",
              "      <th>2201</th>\n",
              "      <td>1</td>\n",
              "      <td>0</td>\n",
              "      <td>0</td>\n",
              "      <td>0</td>\n",
              "      <td>0</td>\n",
              "      <td>1</td>\n",
              "      <td>0</td>\n",
              "      <td>1</td>\n",
              "      <td>0</td>\n",
              "      <td>0</td>\n",
              "      <td>0</td>\n",
              "      <td>0</td>\n",
              "      <td>1</td>\n",
              "    </tr>\n",
              "    <tr>\n",
              "      <th>2204</th>\n",
              "      <td>0</td>\n",
              "      <td>0</td>\n",
              "      <td>1</td>\n",
              "      <td>0</td>\n",
              "      <td>0</td>\n",
              "      <td>0</td>\n",
              "      <td>1</td>\n",
              "      <td>1</td>\n",
              "      <td>0</td>\n",
              "      <td>0</td>\n",
              "      <td>0</td>\n",
              "      <td>0</td>\n",
              "      <td>1</td>\n",
              "    </tr>\n",
              "    <tr>\n",
              "      <th>2205</th>\n",
              "      <td>0</td>\n",
              "      <td>0</td>\n",
              "      <td>0</td>\n",
              "      <td>1</td>\n",
              "      <td>0</td>\n",
              "      <td>1</td>\n",
              "      <td>0</td>\n",
              "      <td>1</td>\n",
              "      <td>0</td>\n",
              "      <td>0</td>\n",
              "      <td>0</td>\n",
              "      <td>0</td>\n",
              "      <td>1</td>\n",
              "    </tr>\n",
              "  </tbody>\n",
              "</table>\n",
              "<p>749 rows × 13 columns</p>\n",
              "</div>\n",
              "      <button class=\"colab-df-convert\" onclick=\"convertToInteractive('df-88d5c4cf-cda7-403d-a7f3-d1379eaa50ec')\"\n",
              "              title=\"Convert this dataframe to an interactive table.\"\n",
              "              style=\"display:none;\">\n",
              "        \n",
              "  <svg xmlns=\"http://www.w3.org/2000/svg\" height=\"24px\"viewBox=\"0 0 24 24\"\n",
              "       width=\"24px\">\n",
              "    <path d=\"M0 0h24v24H0V0z\" fill=\"none\"/>\n",
              "    <path d=\"M18.56 5.44l.94 2.06.94-2.06 2.06-.94-2.06-.94-.94-2.06-.94 2.06-2.06.94zm-11 1L8.5 8.5l.94-2.06 2.06-.94-2.06-.94L8.5 2.5l-.94 2.06-2.06.94zm10 10l.94 2.06.94-2.06 2.06-.94-2.06-.94-.94-2.06-.94 2.06-2.06.94z\"/><path d=\"M17.41 7.96l-1.37-1.37c-.4-.4-.92-.59-1.43-.59-.52 0-1.04.2-1.43.59L10.3 9.45l-7.72 7.72c-.78.78-.78 2.05 0 2.83L4 21.41c.39.39.9.59 1.41.59.51 0 1.02-.2 1.41-.59l7.78-7.78 2.81-2.81c.8-.78.8-2.07 0-2.86zM5.41 20L4 18.59l7.72-7.72 1.47 1.35L5.41 20z\"/>\n",
              "  </svg>\n",
              "      </button>\n",
              "      \n",
              "  <style>\n",
              "    .colab-df-container {\n",
              "      display:flex;\n",
              "      flex-wrap:wrap;\n",
              "      gap: 12px;\n",
              "    }\n",
              "\n",
              "    .colab-df-convert {\n",
              "      background-color: #E8F0FE;\n",
              "      border: none;\n",
              "      border-radius: 50%;\n",
              "      cursor: pointer;\n",
              "      display: none;\n",
              "      fill: #1967D2;\n",
              "      height: 32px;\n",
              "      padding: 0 0 0 0;\n",
              "      width: 32px;\n",
              "    }\n",
              "\n",
              "    .colab-df-convert:hover {\n",
              "      background-color: #E2EBFA;\n",
              "      box-shadow: 0px 1px 2px rgba(60, 64, 67, 0.3), 0px 1px 3px 1px rgba(60, 64, 67, 0.15);\n",
              "      fill: #174EA6;\n",
              "    }\n",
              "\n",
              "    [theme=dark] .colab-df-convert {\n",
              "      background-color: #3B4455;\n",
              "      fill: #D2E3FC;\n",
              "    }\n",
              "\n",
              "    [theme=dark] .colab-df-convert:hover {\n",
              "      background-color: #434B5C;\n",
              "      box-shadow: 0px 1px 3px 1px rgba(0, 0, 0, 0.15);\n",
              "      filter: drop-shadow(0px 1px 2px rgba(0, 0, 0, 0.3));\n",
              "      fill: #FFFFFF;\n",
              "    }\n",
              "  </style>\n",
              "\n",
              "      <script>\n",
              "        const buttonEl =\n",
              "          document.querySelector('#df-88d5c4cf-cda7-403d-a7f3-d1379eaa50ec button.colab-df-convert');\n",
              "        buttonEl.style.display =\n",
              "          google.colab.kernel.accessAllowed ? 'block' : 'none';\n",
              "\n",
              "        async function convertToInteractive(key) {\n",
              "          const element = document.querySelector('#df-88d5c4cf-cda7-403d-a7f3-d1379eaa50ec');\n",
              "          const dataTable =\n",
              "            await google.colab.kernel.invokeFunction('convertToInteractive',\n",
              "                                                     [key], {});\n",
              "          if (!dataTable) return;\n",
              "\n",
              "          const docLinkHtml = 'Like what you see? Visit the ' +\n",
              "            '<a target=\"_blank\" href=https://colab.research.google.com/notebooks/data_table.ipynb>data table notebook</a>'\n",
              "            + ' to learn more about interactive tables.';\n",
              "          element.innerHTML = '';\n",
              "          dataTable['output_type'] = 'display_data';\n",
              "          await google.colab.output.renderOutput(dataTable, element);\n",
              "          const docLink = document.createElement('div');\n",
              "          docLink.innerHTML = docLinkHtml;\n",
              "          element.appendChild(docLink);\n",
              "        }\n",
              "      </script>\n",
              "    </div>\n",
              "  </div>\n",
              "  "
            ],
            "text/plain": [
              "      rango1  rango2  rango3  rango4  ...  Extravertido  Responsable  Serio  estilo\n",
              "5          0       1       0       0  ...             0            0      0       1\n",
              "6          0       1       0       0  ...             0            1      0       1\n",
              "11         0       0       0       0  ...             0            0      1       1\n",
              "12         0       0       1       0  ...             0            0      1       1\n",
              "13         0       1       0       0  ...             0            0      0       1\n",
              "...      ...     ...     ...     ...  ...           ...          ...    ...     ...\n",
              "2197       0       0       0       1  ...             0            1      0       0\n",
              "2200       0       0       0       0  ...             0            0      0       0\n",
              "2201       1       0       0       0  ...             0            0      0       1\n",
              "2204       0       0       1       0  ...             0            0      0       1\n",
              "2205       0       0       0       1  ...             0            0      0       1\n",
              "\n",
              "[749 rows x 13 columns]"
            ]
          },
          "metadata": {},
          "execution_count": 2
        }
      ]
    },
    {
      "cell_type": "code",
      "source": [
        "datos = datos.values\n",
        "X = datos[:, :-1]\n",
        "y = datos[:,-1]"
      ],
      "metadata": {
        "id": "cnKY4cGMYfk_"
      },
      "execution_count": 3,
      "outputs": []
    },
    {
      "cell_type": "code",
      "source": [
        "X_train, X_test, y_train, y_test = train_test_split(X, y, test_size = 0.30, random_state = 101)"
      ],
      "metadata": {
        "id": "9EK1phxAYsIN"
      },
      "execution_count": 4,
      "outputs": []
    },
    {
      "cell_type": "code",
      "source": [
        "\n",
        "def recall_m(y_true, y_pred):\n",
        "    true_positives = K.sum(K.round(K.clip(y_true * y_pred, 0, 1)))\n",
        "    possible_positives = K.sum(K.round(K.clip(y_true, 0, 1)))\n",
        "    recall = true_positives / (possible_positives + K.epsilon())\n",
        "    return recall\n",
        "\n",
        "def precision_m(y_true, y_pred):\n",
        "    true_positives = K.sum(K.round(K.clip(y_true * y_pred, 0, 1)))\n",
        "    predicted_positives = K.sum(K.round(K.clip(y_pred, 0, 1)))\n",
        "    precision = true_positives / (predicted_positives + K.epsilon())\n",
        "    return precision\n",
        "\n",
        "def f1_m(y_true, y_pred):\n",
        "    precision = precision_m(y_true, y_pred)\n",
        "    recall = recall_m(y_true, y_pred)\n",
        "    return 2*((precision*recall)/(precision+recall+K.epsilon()))"
      ],
      "metadata": {
        "id": "tHltG9bN8xgu"
      },
      "execution_count": 5,
      "outputs": []
    },
    {
      "cell_type": "code",
      "source": [
        "\n",
        "from sklearn.metrics import confusion_matrix\n",
        "# Start neural network\n",
        "network = models.Sequential()\n",
        "\n",
        "# Add fully connected layer with a ReLU activation function\n",
        "network.add(layers.Dense(units=12, activation='relu', input_shape=(12,)))\n",
        "network.add(layers.Dense(units=6))\n",
        "# Add fully connected layer with a sigmoid activation function\n",
        "network.add(layers.Dense(units=1,activation='sigmoid'))\n",
        "\n",
        "\n",
        "# Compile neural network\n",
        "network.compile(loss='binary_crossentropy', #mean_squared_error\n",
        "                    optimizer='Adam', # Root Mean Square Propagation\n",
        "                    metrics=['accuracy',f1_m,precision_m, recall_m]) # Accuracy performance metric\n",
        "# Return compiled network\n",
        "Hist=network.fit(X_train, y_train, epochs=50, batch_size=10)\n"
      ],
      "metadata": {
        "id": "W0A-dLPM8yOz",
        "colab": {
          "base_uri": "https://localhost:8080/"
        },
        "outputId": "2b668e54-f1dd-44d1-ccbe-e42e57f88523"
      },
      "execution_count": 6,
      "outputs": [
        {
          "output_type": "stream",
          "name": "stdout",
          "text": [
            "Epoch 1/50\n",
            "53/53 [==============================] - 3s 3ms/step - loss: 0.6534 - accuracy: 0.5935 - f1_m: 0.5525 - precision_m: 0.6552 - recall_m: 0.5324\n",
            "Epoch 2/50\n",
            "53/53 [==============================] - 0s 3ms/step - loss: 0.6167 - accuracy: 0.6927 - f1_m: 0.6869 - precision_m: 0.7079 - recall_m: 0.7057\n",
            "Epoch 3/50\n",
            "53/53 [==============================] - 0s 3ms/step - loss: 0.5883 - accuracy: 0.7214 - f1_m: 0.7175 - precision_m: 0.7168 - recall_m: 0.7670\n",
            "Epoch 4/50\n",
            "53/53 [==============================] - 0s 3ms/step - loss: 0.5654 - accuracy: 0.7156 - f1_m: 0.7308 - precision_m: 0.7164 - recall_m: 0.7814\n",
            "Epoch 5/50\n",
            "53/53 [==============================] - 0s 4ms/step - loss: 0.5509 - accuracy: 0.7195 - f1_m: 0.7320 - precision_m: 0.7181 - recall_m: 0.7871\n",
            "Epoch 6/50\n",
            "53/53 [==============================] - 0s 2ms/step - loss: 0.5416 - accuracy: 0.7424 - f1_m: 0.7630 - precision_m: 0.7183 - recall_m: 0.8503\n",
            "Epoch 7/50\n",
            "53/53 [==============================] - 0s 3ms/step - loss: 0.5345 - accuracy: 0.7424 - f1_m: 0.7522 - precision_m: 0.7341 - recall_m: 0.8157\n",
            "Epoch 8/50\n",
            "53/53 [==============================] - 0s 3ms/step - loss: 0.5317 - accuracy: 0.7366 - f1_m: 0.7562 - precision_m: 0.7073 - recall_m: 0.8437\n",
            "Epoch 9/50\n",
            "53/53 [==============================] - 0s 5ms/step - loss: 0.5270 - accuracy: 0.7424 - f1_m: 0.7728 - precision_m: 0.7283 - recall_m: 0.8695\n",
            "Epoch 10/50\n",
            "53/53 [==============================] - 0s 5ms/step - loss: 0.5273 - accuracy: 0.7443 - f1_m: 0.7726 - precision_m: 0.7390 - recall_m: 0.8719\n",
            "Epoch 11/50\n",
            "53/53 [==============================] - 0s 3ms/step - loss: 0.5244 - accuracy: 0.7290 - f1_m: 0.7630 - precision_m: 0.7068 - recall_m: 0.8638\n",
            "Epoch 12/50\n",
            "53/53 [==============================] - 0s 3ms/step - loss: 0.5219 - accuracy: 0.7405 - f1_m: 0.7825 - precision_m: 0.7218 - recall_m: 0.8889\n",
            "Epoch 13/50\n",
            "53/53 [==============================] - 0s 3ms/step - loss: 0.5209 - accuracy: 0.7290 - f1_m: 0.7525 - precision_m: 0.7133 - recall_m: 0.8231\n",
            "Epoch 14/50\n",
            "53/53 [==============================] - 0s 3ms/step - loss: 0.5206 - accuracy: 0.7233 - f1_m: 0.7647 - precision_m: 0.7130 - recall_m: 0.8662\n",
            "Epoch 15/50\n",
            "53/53 [==============================] - 0s 5ms/step - loss: 0.5187 - accuracy: 0.7443 - f1_m: 0.7690 - precision_m: 0.7143 - recall_m: 0.8810\n",
            "Epoch 16/50\n",
            "53/53 [==============================] - 0s 4ms/step - loss: 0.5171 - accuracy: 0.7443 - f1_m: 0.7802 - precision_m: 0.7226 - recall_m: 0.8816\n",
            "Epoch 17/50\n",
            "53/53 [==============================] - 0s 3ms/step - loss: 0.5176 - accuracy: 0.7424 - f1_m: 0.7778 - precision_m: 0.7131 - recall_m: 0.8889\n",
            "Epoch 18/50\n",
            "53/53 [==============================] - 0s 5ms/step - loss: 0.5185 - accuracy: 0.7328 - f1_m: 0.7489 - precision_m: 0.7136 - recall_m: 0.8425\n",
            "Epoch 19/50\n",
            "53/53 [==============================] - 0s 4ms/step - loss: 0.5153 - accuracy: 0.7405 - f1_m: 0.7705 - precision_m: 0.6989 - recall_m: 0.9011\n",
            "Epoch 20/50\n",
            "53/53 [==============================] - 0s 4ms/step - loss: 0.5149 - accuracy: 0.7385 - f1_m: 0.7671 - precision_m: 0.7358 - recall_m: 0.8332\n",
            "Epoch 21/50\n",
            "53/53 [==============================] - 0s 3ms/step - loss: 0.5137 - accuracy: 0.7424 - f1_m: 0.7738 - precision_m: 0.7169 - recall_m: 0.8695\n",
            "Epoch 22/50\n",
            "53/53 [==============================] - 0s 3ms/step - loss: 0.5130 - accuracy: 0.7462 - f1_m: 0.7862 - precision_m: 0.7160 - recall_m: 0.9037\n",
            "Epoch 23/50\n",
            "53/53 [==============================] - 0s 3ms/step - loss: 0.5126 - accuracy: 0.7385 - f1_m: 0.7730 - precision_m: 0.7227 - recall_m: 0.8645\n",
            "Epoch 24/50\n",
            "53/53 [==============================] - 0s 3ms/step - loss: 0.5134 - accuracy: 0.7347 - f1_m: 0.7715 - precision_m: 0.7011 - recall_m: 0.8859\n",
            "Epoch 25/50\n",
            "53/53 [==============================] - 0s 3ms/step - loss: 0.5120 - accuracy: 0.7500 - f1_m: 0.7760 - precision_m: 0.7116 - recall_m: 0.8985\n",
            "Epoch 26/50\n",
            "53/53 [==============================] - 0s 4ms/step - loss: 0.5117 - accuracy: 0.7462 - f1_m: 0.7650 - precision_m: 0.7099 - recall_m: 0.8725\n",
            "Epoch 27/50\n",
            "53/53 [==============================] - 0s 4ms/step - loss: 0.5127 - accuracy: 0.7309 - f1_m: 0.7692 - precision_m: 0.7072 - recall_m: 0.8826\n",
            "Epoch 28/50\n",
            "53/53 [==============================] - 0s 3ms/step - loss: 0.5116 - accuracy: 0.7462 - f1_m: 0.7657 - precision_m: 0.7534 - recall_m: 0.8293\n",
            "Epoch 29/50\n",
            "53/53 [==============================] - 0s 4ms/step - loss: 0.5109 - accuracy: 0.7424 - f1_m: 0.7669 - precision_m: 0.7073 - recall_m: 0.8784\n",
            "Epoch 30/50\n",
            "53/53 [==============================] - 0s 5ms/step - loss: 0.5114 - accuracy: 0.7385 - f1_m: 0.7770 - precision_m: 0.7176 - recall_m: 0.8849\n",
            "Epoch 31/50\n",
            "53/53 [==============================] - 0s 3ms/step - loss: 0.5100 - accuracy: 0.7405 - f1_m: 0.7459 - precision_m: 0.6867 - recall_m: 0.8550\n",
            "Epoch 32/50\n",
            "53/53 [==============================] - 0s 3ms/step - loss: 0.5099 - accuracy: 0.7424 - f1_m: 0.7789 - precision_m: 0.7162 - recall_m: 0.8855\n",
            "Epoch 33/50\n",
            "53/53 [==============================] - 0s 4ms/step - loss: 0.5082 - accuracy: 0.7462 - f1_m: 0.7794 - precision_m: 0.7406 - recall_m: 0.8616\n",
            "Epoch 34/50\n",
            "53/53 [==============================] - 0s 2ms/step - loss: 0.5090 - accuracy: 0.7481 - f1_m: 0.7789 - precision_m: 0.7193 - recall_m: 0.8791\n",
            "Epoch 35/50\n",
            "53/53 [==============================] - 0s 4ms/step - loss: 0.5090 - accuracy: 0.7462 - f1_m: 0.7719 - precision_m: 0.7355 - recall_m: 0.8443\n",
            "Epoch 36/50\n",
            "53/53 [==============================] - 0s 4ms/step - loss: 0.5077 - accuracy: 0.7500 - f1_m: 0.7758 - precision_m: 0.6945 - recall_m: 0.9100\n",
            "Epoch 37/50\n",
            "53/53 [==============================] - 0s 3ms/step - loss: 0.5078 - accuracy: 0.7424 - f1_m: 0.7640 - precision_m: 0.7207 - recall_m: 0.8495\n",
            "Epoch 38/50\n",
            "53/53 [==============================] - 0s 3ms/step - loss: 0.5071 - accuracy: 0.7519 - f1_m: 0.7700 - precision_m: 0.7145 - recall_m: 0.8665\n",
            "Epoch 39/50\n",
            "53/53 [==============================] - 0s 3ms/step - loss: 0.5065 - accuracy: 0.7481 - f1_m: 0.7736 - precision_m: 0.7389 - recall_m: 0.8543\n",
            "Epoch 40/50\n",
            "53/53 [==============================] - 0s 3ms/step - loss: 0.5079 - accuracy: 0.7443 - f1_m: 0.7811 - precision_m: 0.7217 - recall_m: 0.9000\n",
            "Epoch 41/50\n",
            "53/53 [==============================] - 0s 4ms/step - loss: 0.5067 - accuracy: 0.7481 - f1_m: 0.7756 - precision_m: 0.7299 - recall_m: 0.8642\n",
            "Epoch 42/50\n",
            "53/53 [==============================] - 0s 3ms/step - loss: 0.5065 - accuracy: 0.7500 - f1_m: 0.7654 - precision_m: 0.7098 - recall_m: 0.8802\n",
            "Epoch 43/50\n",
            "53/53 [==============================] - 0s 3ms/step - loss: 0.5052 - accuracy: 0.7424 - f1_m: 0.7756 - precision_m: 0.7140 - recall_m: 0.8776\n",
            "Epoch 44/50\n",
            "53/53 [==============================] - 0s 3ms/step - loss: 0.5057 - accuracy: 0.7519 - f1_m: 0.7758 - precision_m: 0.7363 - recall_m: 0.8600\n",
            "Epoch 45/50\n",
            "53/53 [==============================] - 0s 5ms/step - loss: 0.5051 - accuracy: 0.7462 - f1_m: 0.7805 - precision_m: 0.7220 - recall_m: 0.8864\n",
            "Epoch 46/50\n",
            "53/53 [==============================] - 0s 4ms/step - loss: 0.5052 - accuracy: 0.7481 - f1_m: 0.7780 - precision_m: 0.7357 - recall_m: 0.8566\n",
            "Epoch 47/50\n",
            "53/53 [==============================] - 0s 5ms/step - loss: 0.5050 - accuracy: 0.7462 - f1_m: 0.7758 - precision_m: 0.7283 - recall_m: 0.8664\n",
            "Epoch 48/50\n",
            "53/53 [==============================] - 0s 3ms/step - loss: 0.5046 - accuracy: 0.7500 - f1_m: 0.7762 - precision_m: 0.7127 - recall_m: 0.8976\n",
            "Epoch 49/50\n",
            "53/53 [==============================] - 0s 3ms/step - loss: 0.5047 - accuracy: 0.7576 - f1_m: 0.7880 - precision_m: 0.7390 - recall_m: 0.8783\n",
            "Epoch 50/50\n",
            "53/53 [==============================] - 0s 3ms/step - loss: 0.5050 - accuracy: 0.7519 - f1_m: 0.7613 - precision_m: 0.7167 - recall_m: 0.8446\n"
          ]
        }
      ]
    },
    {
      "cell_type": "code",
      "source": [
        "# Evaluacion del modelo con los datos de prueba\n",
        "scores = network.evaluate(X_test, y_test, verbose=0)\n",
        "# Presentacion de Accurary del modelo\n",
        "print(\"\\n%s: %.2f%%\" % (network.metrics_names[1], scores[1]*100))\n",
        "# Presentacion de F1 del modelo\n",
        "print(\"\\n%s: %.2f%%\" % (network.metrics_names[2], scores[2]*100))\n",
        "# Presentacion de la Precision del modelo\n",
        "print(\"\\n%s: %.2f%%\" % (network.metrics_names[3], scores[3]*100))\n",
        "# Presentacion del Recall del modelo\n",
        "print(\"\\n%s: %.2f%%\" % (network.metrics_names[4], scores[4]*100))"
      ],
      "metadata": {
        "colab": {
          "base_uri": "https://localhost:8080/"
        },
        "id": "s7cUJ5LcL2LO",
        "outputId": "9cbd8d75-eec0-459d-eb45-967c53da169e"
      },
      "execution_count": 7,
      "outputs": [
        {
          "output_type": "stream",
          "name": "stdout",
          "text": [
            "\n",
            "accuracy: 66.22%\n",
            "\n",
            "f1_m: 61.87%\n",
            "\n",
            "precision_m: 56.70%\n",
            "\n",
            "recall_m: 71.53%\n"
          ]
        }
      ]
    },
    {
      "cell_type": "code",
      "source": [
        "plt.xlabel(\"# Peoca\")\n",
        "plt.ylabel(\"Magnitud de perdida y Accuracy\")\n",
        "plt.plot(Hist.history[\"loss\"])\n",
        "plt.plot(Hist.history[\"accuracy\"])"
      ],
      "metadata": {
        "colab": {
          "base_uri": "https://localhost:8080/",
          "height": 296
        },
        "id": "oRKpCtQC8yMW",
        "outputId": "e963d0b3-0734-4a06-c6e2-7f8f49c2c323"
      },
      "execution_count": 8,
      "outputs": [
        {
          "output_type": "execute_result",
          "data": {
            "text/plain": [
              "[<matplotlib.lines.Line2D at 0x7f06738fa650>]"
            ]
          },
          "metadata": {},
          "execution_count": 8
        },
        {
          "output_type": "display_data",
          "data": {
            "image/png": "[encoded data removed]",
            "text/plain": [
              "<Figure size 432x288 with 1 Axes>"
            ]
          },
          "metadata": {
            "needs_background": "light"
          }
        }
      ]
    },
    {
      "cell_type": "code",
      "source": [
        "# Se obtiene los valores de prediccion y se grafica la \n",
        "# matriz de confusion\n",
        "y_pred = network.predict(X_test)\n",
        "y_pred =(y_pred>0.5)\n",
        "list(y_pred)\n",
        "cm = confusion_matrix(y_test, y_pred)\n",
        "cm"
      ],
      "metadata": {
        "colab": {
          "base_uri": "https://localhost:8080/"
        },
        "id": "b4Dekj265Asz",
        "outputId": "e8fb6eac-7978-499d-83f4-00c9a6310501"
      },
      "execution_count": 9,
      "outputs": [
        {
          "output_type": "execute_result",
          "data": {
            "text/plain": [
              "array([[55, 53],\n",
              "       [23, 94]])"
            ]
          },
          "metadata": {},
          "execution_count": 9
        }
      ]
    },
    {
      "cell_type": "code",
      "source": [
        "#Graficacion de la matriz de confusion\n",
        "ax = sns.heatmap(cm, annot=True, cmap='Blues')\n",
        "# etiquetas de X e Y\n",
        "ax.set_title('Matrix Confusion');\n",
        "ax.set_xlabel('Y_Pred')\n",
        "ax.set_ylabel('Y_Actual');\n",
        "\n",
        "# Sub etiquetas de X e Y\n",
        "ax.xaxis.set_ticklabels([\"False\",\"True\"])\n",
        "ax.yaxis.set_ticklabels([\"False\",\"True\"])\n",
        "\n",
        "# Se manda a visuluzar la matriz de confusion.\n",
        "plt.show()"
      ],
      "metadata": {
        "colab": {
          "base_uri": "https://localhost:8080/",
          "height": 296
        },
        "id": "d-UaD5-c5Eir",
        "outputId": "f588895b-99fb-48de-f9f1-cfa19693c8d4"
      },
      "execution_count": 10,
      "outputs": [
        {
          "output_type": "display_data",
          "data": {
            "image/png": "[encoded data removed]",
            "text/plain": [
              "<Figure size 432x288 with 2 Axes>"
            ]
          },
          "metadata": {
            "needs_background": "light"
          }
        }
      ]
    },
    {
      "cell_type": "code",
      "source": [
        "# Se establece la funcion de la red neuronal para ser utilizada por el \n",
        "# CrossFolding\n",
        "def create_network():\n",
        "    network = models.Sequential()\n",
        "    network.add(layers.Dense(units=12, activation='relu', input_shape=(12,)))\n",
        "    network.add(layers.Dense(units=6))\n",
        "    network.add(layers.Dense(units=1,activation='sigmoid'))\n",
        "    network.compile(loss='binary_crossentropy', #mean_squared_error\n",
        "                    optimizer='Adam', # Root Mean Square Propagation\n",
        "                    metrics=['accuracy',f1_m,precision_m, recall_m]) # Accuracy performance metric \n",
        "    return network"
      ],
      "metadata": {
        "id": "5c1bzl-o5VE6"
      },
      "execution_count": 11,
      "outputs": []
    },
    {
      "cell_type": "code",
      "source": [
        "neural_network = KerasClassifier(build_fn=create_network, \n",
        "                                 epochs=50, \n",
        "                                 batch_size=10, \n",
        "                                 verbose=0)"
      ],
      "metadata": {
        "colab": {
          "base_uri": "https://localhost:8080/"
        },
        "id": "n8KQ5YAf8yJ-",
        "outputId": "109402d5-3fec-4b08-90eb-413abda2c090"
      },
      "execution_count": 12,
      "outputs": [
        {
          "output_type": "stream",
          "name": "stderr",
          "text": [
            "/usr/local/lib/python3.7/dist-packages/ipykernel_launcher.py:4: DeprecationWarning: KerasClassifier is deprecated, use Sci-Keras (https://github.com/adriangb/scikeras) instead. See https://www.adriangb.com/scikeras/stable/migration.html for help migrating.\n",
            "  after removing the cwd from sys.path.\n"
          ]
        }
      ]
    },
    {
      "cell_type": "code",
      "source": [
        "# Evaluate neural network using three-fold cross-validation\n",
        "cross_val_score(neural_network, X_test, y_test, cv=3)"
      ],
      "metadata": {
        "colab": {
          "base_uri": "https://localhost:8080/"
        },
        "id": "mCvVm-xb8yHW",
        "outputId": "969ded49-7273-496f-f16a-53d9e1dccfc3"
      },
      "execution_count": 13,
      "outputs": [
        {
          "output_type": "execute_result",
          "data": {
            "text/plain": [
              "array([0.58666664, 0.60000002, 0.61333334])"
            ]
          },
          "metadata": {},
          "execution_count": 13
        }
      ]
    },
    {
      "cell_type": "code",
      "source": [
        "# Rango1 17-19\n",
        "# Rango2 20-22\n",
        "# Rango3 23-24\n",
        "# Rango4 25 27\n",
        "# Rango5 28-30\n",
        "\n",
        "X_new = pd.DataFrame({'rango1': [1],'rango2': [0],'rango3': [0],'rango4': [0],'rango5': [0],\n",
        "                      'Femenino': [0],'Masculino': [1],\n",
        "                      'Animado': [0], 'Confiable': [0], 'Extravertido': [0], 'Responsable': [1], 'Serio': [0]})\n"
      ],
      "metadata": {
        "id": "npMLhcWy9_ta"
      },
      "execution_count": 14,
      "outputs": []
    },
    {
      "cell_type": "code",
      "source": [
        "# Se pasan los valores de entrada a la red, y esta se encarga de predecir el estilo a vestir\n",
        "\n",
        "Resultado= network.predict([X_new])\n",
        "out= Resultado.round().astype(int)\n",
        "if out == 1:\n",
        "  print(\"Su estilo es casual\")\n",
        "if out == 0:\n",
        "  print(\"Su estilo es modesto\")\n"
      ],
      "metadata": {
        "colab": {
          "base_uri": "https://localhost:8080/"
        },
        "id": "zZd9QPKq8P6C",
        "outputId": "2b80b30a-c71b-40d0-aa70-76673f79384f"
      },
      "execution_count": 15,
      "outputs": [
        {
          "output_type": "stream",
          "name": "stdout",
          "text": [
            "Su estilo es modesto\n"
          ]
        }
      ]
    }
  ]
}