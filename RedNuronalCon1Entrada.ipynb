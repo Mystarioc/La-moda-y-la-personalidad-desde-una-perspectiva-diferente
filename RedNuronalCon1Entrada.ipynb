{
  "nbformat": 4,
  "nbformat_minor": 0,
  "metadata": {
    "colab": {
      "name": " RedNuronalCon1Entrada.ipynb",
      "provenance": [],
      "collapsed_sections": []
    },
    "kernelspec": {
      "name": "python3",
      "display_name": "Python 3"
    },
    "language_info": {
      "name": "python"
    }
  },
  "cells": [
    {
      "cell_type": "code",
      "execution_count": 1,
      "metadata": {
        "id": "xcju0H8q687R"
      },
      "outputs": [],
      "source": [
        "# Importacion de todas las librerias necesarias para la implementacion\n",
        "# y ejecucion del modelo\n",
        "import pandas as pd\n",
        "from sklearn.model_selection import train_test_split\n",
        "import sklearn\n",
        "import matplotlib.pyplot as plt\n",
        "from sklearn.metrics import classification_report, confusion_matrix \n",
        "from sklearn.svm import SVC  \n",
        "\n",
        "import seaborn as sns\n",
        "import matplotlib.pyplot as plt\n",
        "import numpy as np\n",
        "\n",
        "from keras import models\n",
        "from keras import layers\n",
        "from keras.wrappers.scikit_learn import KerasClassifier\n",
        "from sklearn.model_selection import cross_val_score\n",
        "from sklearn.datasets import make_classification\n",
        "from keras import backend as K\n",
        "%matplotlib inline"
      ]
    },
    {
      "cell_type": "code",
      "source": [
        "# Leemos el archivo de excel, este archivo contiene todos los datos procesados y listos para \n",
        "# ser enviador al modelo. Este cuenta con un total de 749 registros y 6 columnas\n",
        "# que corresponden a la personalidad.\n",
        "datos = pd.read_excel(\"DatosLimpios_2Y.xlsx\", names=['Animado', 'Confiable', 'Extravertido', 'Responsable', 'Serio','estilo'])\n",
        "datos"
      ],
      "metadata": {
        "colab": {
          "base_uri": "https://localhost:8080/",
          "height": 424
        },
        "id": "VimJIQ_wXb_g",
        "outputId": "a59bc291-7e24-4f01-e69b-8357035ac630"
      },
      "execution_count": 2,
      "outputs": [
        {
          "output_type": "execute_result",
          "data": {
            "text/html": [
              "\n",
              "  <div id=\"df-ce1240a3-76f7-4bd7-ae38-d80dd03f3d83\">\n",
              "    <div class=\"colab-df-container\">\n",
              "      <div>\n",
              "<style scoped>\n",
              "    .dataframe tbody tr th:only-of-type {\n",
              "        vertical-align: middle;\n",
              "    }\n",
              "\n",
              "    .dataframe tbody tr th {\n",
              "        vertical-align: top;\n",
              "    }\n",
              "\n",
              "    .dataframe thead th {\n",
              "        text-align: right;\n",
              "    }\n",
              "</style>\n",
              "<table border=\"1\" class=\"dataframe\">\n",
              "  <thead>\n",
              "    <tr style=\"text-align: right;\">\n",
              "      <th></th>\n",
              "      <th>Animado</th>\n",
              "      <th>Confiable</th>\n",
              "      <th>Extravertido</th>\n",
              "      <th>Responsable</th>\n",
              "      <th>Serio</th>\n",
              "      <th>estilo</th>\n",
              "    </tr>\n",
              "  </thead>\n",
              "  <tbody>\n",
              "    <tr>\n",
              "      <th>5</th>\n",
              "      <td>1</td>\n",
              "      <td>0</td>\n",
              "      <td>0</td>\n",
              "      <td>0</td>\n",
              "      <td>0</td>\n",
              "      <td>1</td>\n",
              "    </tr>\n",
              "    <tr>\n",
              "      <th>6</th>\n",
              "      <td>0</td>\n",
              "      <td>0</td>\n",
              "      <td>0</td>\n",
              "      <td>1</td>\n",
              "      <td>0</td>\n",
              "      <td>1</td>\n",
              "    </tr>\n",
              "    <tr>\n",
              "      <th>11</th>\n",
              "      <td>0</td>\n",
              "      <td>0</td>\n",
              "      <td>0</td>\n",
              "      <td>0</td>\n",
              "      <td>1</td>\n",
              "      <td>1</td>\n",
              "    </tr>\n",
              "    <tr>\n",
              "      <th>12</th>\n",
              "      <td>0</td>\n",
              "      <td>0</td>\n",
              "      <td>0</td>\n",
              "      <td>0</td>\n",
              "      <td>1</td>\n",
              "      <td>1</td>\n",
              "    </tr>\n",
              "    <tr>\n",
              "      <th>13</th>\n",
              "      <td>1</td>\n",
              "      <td>0</td>\n",
              "      <td>0</td>\n",
              "      <td>0</td>\n",
              "      <td>0</td>\n",
              "      <td>1</td>\n",
              "    </tr>\n",
              "    <tr>\n",
              "      <th>...</th>\n",
              "      <td>...</td>\n",
              "      <td>...</td>\n",
              "      <td>...</td>\n",
              "      <td>...</td>\n",
              "      <td>...</td>\n",
              "      <td>...</td>\n",
              "    </tr>\n",
              "    <tr>\n",
              "      <th>2197</th>\n",
              "      <td>0</td>\n",
              "      <td>0</td>\n",
              "      <td>0</td>\n",
              "      <td>1</td>\n",
              "      <td>0</td>\n",
              "      <td>0</td>\n",
              "    </tr>\n",
              "    <tr>\n",
              "      <th>2200</th>\n",
              "      <td>0</td>\n",
              "      <td>1</td>\n",
              "      <td>0</td>\n",
              "      <td>0</td>\n",
              "      <td>0</td>\n",
              "      <td>0</td>\n",
              "    </tr>\n",
              "    <tr>\n",
              "      <th>2201</th>\n",
              "      <td>1</td>\n",
              "      <td>0</td>\n",
              "      <td>0</td>\n",
              "      <td>0</td>\n",
              "      <td>0</td>\n",
              "      <td>1</td>\n",
              "    </tr>\n",
              "    <tr>\n",
              "      <th>2204</th>\n",
              "      <td>1</td>\n",
              "      <td>0</td>\n",
              "      <td>0</td>\n",
              "      <td>0</td>\n",
              "      <td>0</td>\n",
              "      <td>1</td>\n",
              "    </tr>\n",
              "    <tr>\n",
              "      <th>2205</th>\n",
              "      <td>1</td>\n",
              "      <td>0</td>\n",
              "      <td>0</td>\n",
              "      <td>0</td>\n",
              "      <td>0</td>\n",
              "      <td>1</td>\n",
              "    </tr>\n",
              "  </tbody>\n",
              "</table>\n",
              "<p>749 rows × 6 columns</p>\n",
              "</div>\n",
              "      <button class=\"colab-df-convert\" onclick=\"convertToInteractive('df-ce1240a3-76f7-4bd7-ae38-d80dd03f3d83')\"\n",
              "              title=\"Convert this dataframe to an interactive table.\"\n",
              "              style=\"display:none;\">\n",
              "        \n",
              "  <svg xmlns=\"http://www.w3.org/2000/svg\" height=\"24px\"viewBox=\"0 0 24 24\"\n",
              "       width=\"24px\">\n",
              "    <path d=\"M0 0h24v24H0V0z\" fill=\"none\"/>\n",
              "    <path d=\"M18.56 5.44l.94 2.06.94-2.06 2.06-.94-2.06-.94-.94-2.06-.94 2.06-2.06.94zm-11 1L8.5 8.5l.94-2.06 2.06-.94-2.06-.94L8.5 2.5l-.94 2.06-2.06.94zm10 10l.94 2.06.94-2.06 2.06-.94-2.06-.94-.94-2.06-.94 2.06-2.06.94z\"/><path d=\"M17.41 7.96l-1.37-1.37c-.4-.4-.92-.59-1.43-.59-.52 0-1.04.2-1.43.59L10.3 9.45l-7.72 7.72c-.78.78-.78 2.05 0 2.83L4 21.41c.39.39.9.59 1.41.59.51 0 1.02-.2 1.41-.59l7.78-7.78 2.81-2.81c.8-.78.8-2.07 0-2.86zM5.41 20L4 18.59l7.72-7.72 1.47 1.35L5.41 20z\"/>\n",
              "  </svg>\n",
              "      </button>\n",
              "      \n",
              "  <style>\n",
              "    .colab-df-container {\n",
              "      display:flex;\n",
              "      flex-wrap:wrap;\n",
              "      gap: 12px;\n",
              "    }\n",
              "\n",
              "    .colab-df-convert {\n",
              "      background-color: #E8F0FE;\n",
              "      border: none;\n",
              "      border-radius: 50%;\n",
              "      cursor: pointer;\n",
              "      display: none;\n",
              "      fill: #1967D2;\n",
              "      height: 32px;\n",
              "      padding: 0 0 0 0;\n",
              "      width: 32px;\n",
              "    }\n",
              "\n",
              "    .colab-df-convert:hover {\n",
              "      background-color: #E2EBFA;\n",
              "      box-shadow: 0px 1px 2px rgba(60, 64, 67, 0.3), 0px 1px 3px 1px rgba(60, 64, 67, 0.15);\n",
              "      fill: #174EA6;\n",
              "    }\n",
              "\n",
              "    [theme=dark] .colab-df-convert {\n",
              "      background-color: #3B4455;\n",
              "      fill: #D2E3FC;\n",
              "    }\n",
              "\n",
              "    [theme=dark] .colab-df-convert:hover {\n",
              "      background-color: #434B5C;\n",
              "      box-shadow: 0px 1px 3px 1px rgba(0, 0, 0, 0.15);\n",
              "      filter: drop-shadow(0px 1px 2px rgba(0, 0, 0, 0.3));\n",
              "      fill: #FFFFFF;\n",
              "    }\n",
              "  </style>\n",
              "\n",
              "      <script>\n",
              "        const buttonEl =\n",
              "          document.querySelector('#df-ce1240a3-76f7-4bd7-ae38-d80dd03f3d83 button.colab-df-convert');\n",
              "        buttonEl.style.display =\n",
              "          google.colab.kernel.accessAllowed ? 'block' : 'none';\n",
              "\n",
              "        async function convertToInteractive(key) {\n",
              "          const element = document.querySelector('#df-ce1240a3-76f7-4bd7-ae38-d80dd03f3d83');\n",
              "          const dataTable =\n",
              "            await google.colab.kernel.invokeFunction('convertToInteractive',\n",
              "                                                     [key], {});\n",
              "          if (!dataTable) return;\n",
              "\n",
              "          const docLinkHtml = 'Like what you see? Visit the ' +\n",
              "            '<a target=\"_blank\" href=https://colab.research.google.com/notebooks/data_table.ipynb>data table notebook</a>'\n",
              "            + ' to learn more about interactive tables.';\n",
              "          element.innerHTML = '';\n",
              "          dataTable['output_type'] = 'display_data';\n",
              "          await google.colab.output.renderOutput(dataTable, element);\n",
              "          const docLink = document.createElement('div');\n",
              "          docLink.innerHTML = docLinkHtml;\n",
              "          element.appendChild(docLink);\n",
              "        }\n",
              "      </script>\n",
              "    </div>\n",
              "  </div>\n",
              "  "
            ],
            "text/plain": [
              "      Animado  Confiable  Extravertido  Responsable  Serio  estilo\n",
              "5           1          0             0            0      0       1\n",
              "6           0          0             0            1      0       1\n",
              "11          0          0             0            0      1       1\n",
              "12          0          0             0            0      1       1\n",
              "13          1          0             0            0      0       1\n",
              "...       ...        ...           ...          ...    ...     ...\n",
              "2197        0          0             0            1      0       0\n",
              "2200        0          1             0            0      0       0\n",
              "2201        1          0             0            0      0       1\n",
              "2204        1          0             0            0      0       1\n",
              "2205        1          0             0            0      0       1\n",
              "\n",
              "[749 rows x 6 columns]"
            ]
          },
          "metadata": {},
          "execution_count": 2
        }
      ]
    },
    {
      "cell_type": "code",
      "source": [
        "# Se realiza la separacion de los datos de entrada y los datos de salida\n",
        "# Para los datos de entrada se toman todas las columnas a expecion de la ulimta\n",
        "# que corresponde a la columna de estilo, y para los datos de salida se unicamente\n",
        "#  toma la columna de estilo.\n",
        "\n",
        "datos = datos.values\n",
        "X = datos[:, :-1]\n",
        "y = datos[:,-1]"
      ],
      "metadata": {
        "id": "cnKY4cGMYfk_"
      },
      "execution_count": 3,
      "outputs": []
    },
    {
      "cell_type": "code",
      "source": [
        "# Se dividen los datos en 2 partes, el 70% para el entrenamiento del modelo\n",
        "# y el 30% para las pruebas y evaluacion del modelo\n",
        "X_train, X_test, y_train, y_test = train_test_split(X, y, test_size = 0.30, random_state = 101)"
      ],
      "metadata": {
        "id": "9EK1phxAYsIN"
      },
      "execution_count": 4,
      "outputs": []
    },
    {
      "cell_type": "code",
      "source": [
        "# Funciones para el calculo de las metricas de recall, precision y f1\n",
        "def recall_m(y_true, y_pred):\n",
        "    true_positives = K.sum(K.round(K.clip(y_true * y_pred, 0, 1)))\n",
        "    possible_positives = K.sum(K.round(K.clip(y_true, 0, 1)))\n",
        "    recall = true_positives / (possible_positives + K.epsilon())\n",
        "    return recall\n",
        "\n",
        "def precision_m(y_true, y_pred):\n",
        "    true_positives = K.sum(K.round(K.clip(y_true * y_pred, 0, 1)))\n",
        "    predicted_positives = K.sum(K.round(K.clip(y_pred, 0, 1)))\n",
        "    precision = true_positives / (predicted_positives + K.epsilon())\n",
        "    return precision\n",
        "\n",
        "def f1_m(y_true, y_pred):\n",
        "    precision = precision_m(y_true, y_pred)\n",
        "    recall = recall_m(y_true, y_pred)\n",
        "    return 2*((precision*recall)/(precision+recall+K.epsilon()))"
      ],
      "metadata": {
        "id": "tHltG9bN8xgu"
      },
      "execution_count": 5,
      "outputs": []
    },
    {
      "cell_type": "code",
      "source": [
        "\n",
        "# Inicio de la red neuronal\n",
        "network = models.Sequential()\n",
        "\n",
        "# Añadir una capa totalmente conectada con una función de activación ReLU\n",
        "network.add(layers.Dense(units=5, activation='relu', input_shape=(5,)))\n",
        "\n",
        "# Añade una capa totalmente conectada con una función de activación sigmoidea\n",
        "network.add(layers.Dense(units=1,activation='sigmoid'))\n",
        "\n",
        "# Compila el modelo de la red neuronal, a este se le envian varios hiperparametros\n",
        "network.compile(loss='binary_crossentropy', # Funcion de perdidad de binary_crossentropy \n",
        "                    optimizer='Adam', # La funcion de optimizacion para el aprendizaje\n",
        "                    metrics=['accuracy',f1_m,precision_m, recall_m]) # Metricas a evaluar por el modelo\n",
        "# Compilacion del modelo\n",
        "Hist=network.fit(X_train, y_train, epochs=100, batch_size=10)\n"
      ],
      "metadata": {
        "id": "W0A-dLPM8yOz",
        "colab": {
          "base_uri": "https://localhost:8080/"
        },
        "outputId": "7f5a5b31-80ff-46a1-d88f-edf8911879ed"
      },
      "execution_count": 6,
      "outputs": [
        {
          "output_type": "stream",
          "name": "stdout",
          "text": [
            "Epoch 1/100\n",
            "53/53 [==============================] - 3s 4ms/step - loss: 0.6792 - accuracy: 0.7080 - f1_m: 0.7490 - precision_m: 0.6749 - recall_m: 0.8868\n",
            "Epoch 2/100\n",
            "53/53 [==============================] - 0s 3ms/step - loss: 0.6722 - accuracy: 0.7080 - f1_m: 0.7491 - precision_m: 0.6775 - recall_m: 0.8853\n",
            "Epoch 3/100\n",
            "53/53 [==============================] - 0s 4ms/step - loss: 0.6648 - accuracy: 0.7080 - f1_m: 0.7372 - precision_m: 0.6686 - recall_m: 0.8601\n",
            "Epoch 4/100\n",
            "53/53 [==============================] - 0s 4ms/step - loss: 0.6577 - accuracy: 0.7080 - f1_m: 0.7536 - precision_m: 0.6824 - recall_m: 0.8759\n",
            "Epoch 5/100\n",
            "53/53 [==============================] - 0s 3ms/step - loss: 0.6508 - accuracy: 0.7080 - f1_m: 0.7593 - precision_m: 0.6783 - recall_m: 0.8974\n",
            "Epoch 6/100\n",
            "53/53 [==============================] - 0s 3ms/step - loss: 0.6444 - accuracy: 0.7080 - f1_m: 0.7513 - precision_m: 0.6795 - recall_m: 0.8894\n",
            "Epoch 7/100\n",
            "53/53 [==============================] - 0s 3ms/step - loss: 0.6385 - accuracy: 0.7080 - f1_m: 0.7516 - precision_m: 0.6806 - recall_m: 0.8880\n",
            "Epoch 8/100\n",
            "53/53 [==============================] - 0s 3ms/step - loss: 0.6332 - accuracy: 0.7080 - f1_m: 0.7421 - precision_m: 0.6644 - recall_m: 0.8770\n",
            "Epoch 9/100\n",
            "53/53 [==============================] - 0s 4ms/step - loss: 0.6287 - accuracy: 0.7080 - f1_m: 0.7455 - precision_m: 0.6713 - recall_m: 0.8832\n",
            "Epoch 10/100\n",
            "53/53 [==============================] - 0s 4ms/step - loss: 0.6248 - accuracy: 0.7080 - f1_m: 0.7523 - precision_m: 0.6797 - recall_m: 0.8894\n",
            "Epoch 11/100\n",
            "53/53 [==============================] - 0s 4ms/step - loss: 0.6213 - accuracy: 0.7080 - f1_m: 0.7497 - precision_m: 0.6706 - recall_m: 0.8828\n",
            "Epoch 12/100\n",
            "53/53 [==============================] - 0s 4ms/step - loss: 0.6181 - accuracy: 0.7080 - f1_m: 0.7605 - precision_m: 0.6833 - recall_m: 0.8992\n",
            "Epoch 13/100\n",
            "53/53 [==============================] - 0s 4ms/step - loss: 0.6153 - accuracy: 0.7080 - f1_m: 0.7596 - precision_m: 0.6911 - recall_m: 0.8893\n",
            "Epoch 14/100\n",
            "53/53 [==============================] - 0s 4ms/step - loss: 0.6129 - accuracy: 0.6985 - f1_m: 0.7386 - precision_m: 0.6808 - recall_m: 0.8533\n",
            "Epoch 15/100\n",
            "53/53 [==============================] - 0s 3ms/step - loss: 0.6107 - accuracy: 0.7137 - f1_m: 0.6975 - precision_m: 0.7484 - recall_m: 0.6904\n",
            "Epoch 16/100\n",
            "53/53 [==============================] - 0s 4ms/step - loss: 0.6088 - accuracy: 0.7137 - f1_m: 0.7091 - precision_m: 0.7557 - recall_m: 0.7150\n",
            "Epoch 17/100\n",
            "53/53 [==============================] - 0s 3ms/step - loss: 0.6069 - accuracy: 0.7137 - f1_m: 0.6982 - precision_m: 0.7364 - recall_m: 0.6944\n",
            "Epoch 18/100\n",
            "53/53 [==============================] - 0s 4ms/step - loss: 0.6053 - accuracy: 0.7137 - f1_m: 0.7030 - precision_m: 0.7469 - recall_m: 0.7022\n",
            "Epoch 19/100\n",
            "53/53 [==============================] - 0s 5ms/step - loss: 0.6036 - accuracy: 0.7137 - f1_m: 0.6829 - precision_m: 0.7491 - recall_m: 0.6788\n",
            "Epoch 20/100\n",
            "53/53 [==============================] - 0s 5ms/step - loss: 0.6018 - accuracy: 0.7137 - f1_m: 0.7030 - precision_m: 0.7503 - recall_m: 0.7037\n",
            "Epoch 21/100\n",
            "53/53 [==============================] - 0s 5ms/step - loss: 0.6004 - accuracy: 0.7137 - f1_m: 0.7086 - precision_m: 0.7603 - recall_m: 0.7044\n",
            "Epoch 22/100\n",
            "53/53 [==============================] - 0s 6ms/step - loss: 0.5987 - accuracy: 0.7137 - f1_m: 0.7051 - precision_m: 0.7427 - recall_m: 0.7105\n",
            "Epoch 23/100\n",
            "53/53 [==============================] - 0s 4ms/step - loss: 0.5969 - accuracy: 0.7137 - f1_m: 0.7080 - precision_m: 0.7560 - recall_m: 0.7212\n",
            "Epoch 24/100\n",
            "53/53 [==============================] - 0s 6ms/step - loss: 0.5951 - accuracy: 0.7137 - f1_m: 0.7117 - precision_m: 0.7475 - recall_m: 0.7087\n",
            "Epoch 25/100\n",
            "53/53 [==============================] - 0s 5ms/step - loss: 0.5938 - accuracy: 0.7137 - f1_m: 0.6965 - precision_m: 0.7378 - recall_m: 0.6926\n",
            "Epoch 26/100\n",
            "53/53 [==============================] - 0s 6ms/step - loss: 0.5923 - accuracy: 0.7137 - f1_m: 0.7029 - precision_m: 0.7449 - recall_m: 0.7049\n",
            "Epoch 27/100\n",
            "53/53 [==============================] - 0s 6ms/step - loss: 0.5908 - accuracy: 0.7137 - f1_m: 0.7212 - precision_m: 0.7704 - recall_m: 0.7248\n",
            "Epoch 28/100\n",
            "53/53 [==============================] - 0s 4ms/step - loss: 0.5897 - accuracy: 0.7137 - f1_m: 0.7028 - precision_m: 0.7558 - recall_m: 0.6961\n",
            "Epoch 29/100\n",
            "53/53 [==============================] - 0s 5ms/step - loss: 0.5883 - accuracy: 0.7137 - f1_m: 0.6993 - precision_m: 0.7450 - recall_m: 0.6980\n",
            "Epoch 30/100\n",
            "53/53 [==============================] - 0s 5ms/step - loss: 0.5869 - accuracy: 0.7137 - f1_m: 0.7116 - precision_m: 0.7552 - recall_m: 0.7259\n",
            "Epoch 31/100\n",
            "53/53 [==============================] - 0s 5ms/step - loss: 0.5857 - accuracy: 0.7137 - f1_m: 0.7204 - precision_m: 0.7685 - recall_m: 0.7124\n",
            "Epoch 32/100\n",
            "53/53 [==============================] - 0s 3ms/step - loss: 0.5844 - accuracy: 0.7137 - f1_m: 0.7140 - precision_m: 0.7509 - recall_m: 0.7174\n",
            "Epoch 33/100\n",
            "53/53 [==============================] - 0s 3ms/step - loss: 0.5832 - accuracy: 0.7137 - f1_m: 0.7144 - precision_m: 0.7506 - recall_m: 0.7158\n",
            "Epoch 34/100\n",
            "53/53 [==============================] - 0s 4ms/step - loss: 0.5820 - accuracy: 0.7137 - f1_m: 0.7036 - precision_m: 0.7488 - recall_m: 0.7190\n",
            "Epoch 35/100\n",
            "53/53 [==============================] - 0s 5ms/step - loss: 0.5812 - accuracy: 0.7137 - f1_m: 0.7020 - precision_m: 0.7424 - recall_m: 0.7121\n",
            "Epoch 36/100\n",
            "53/53 [==============================] - 0s 4ms/step - loss: 0.5798 - accuracy: 0.7137 - f1_m: 0.7095 - precision_m: 0.7587 - recall_m: 0.7038\n",
            "Epoch 37/100\n",
            "53/53 [==============================] - 0s 4ms/step - loss: 0.5788 - accuracy: 0.7137 - f1_m: 0.7010 - precision_m: 0.7352 - recall_m: 0.6989\n",
            "Epoch 38/100\n",
            "53/53 [==============================] - 0s 4ms/step - loss: 0.5778 - accuracy: 0.7137 - f1_m: 0.6947 - precision_m: 0.7408 - recall_m: 0.6927\n",
            "Epoch 39/100\n",
            "53/53 [==============================] - 0s 4ms/step - loss: 0.5765 - accuracy: 0.7137 - f1_m: 0.7166 - precision_m: 0.7606 - recall_m: 0.7187\n",
            "Epoch 40/100\n",
            "53/53 [==============================] - 0s 5ms/step - loss: 0.5757 - accuracy: 0.7137 - f1_m: 0.7093 - precision_m: 0.7604 - recall_m: 0.7000\n",
            "Epoch 41/100\n",
            "53/53 [==============================] - 0s 4ms/step - loss: 0.5748 - accuracy: 0.7137 - f1_m: 0.7005 - precision_m: 0.7496 - recall_m: 0.6975\n",
            "Epoch 42/100\n",
            "53/53 [==============================] - 0s 5ms/step - loss: 0.5738 - accuracy: 0.7137 - f1_m: 0.7146 - precision_m: 0.7638 - recall_m: 0.7085\n",
            "Epoch 43/100\n",
            "53/53 [==============================] - 0s 5ms/step - loss: 0.5730 - accuracy: 0.7137 - f1_m: 0.7057 - precision_m: 0.7673 - recall_m: 0.7098\n",
            "Epoch 44/100\n",
            "53/53 [==============================] - 0s 5ms/step - loss: 0.5721 - accuracy: 0.7137 - f1_m: 0.6991 - precision_m: 0.7527 - recall_m: 0.7105\n",
            "Epoch 45/100\n",
            "53/53 [==============================] - 0s 5ms/step - loss: 0.5713 - accuracy: 0.7137 - f1_m: 0.6843 - precision_m: 0.7233 - recall_m: 0.6798\n",
            "Epoch 46/100\n",
            "53/53 [==============================] - 0s 5ms/step - loss: 0.5701 - accuracy: 0.7137 - f1_m: 0.7043 - precision_m: 0.7512 - recall_m: 0.6970\n",
            "Epoch 47/100\n",
            "53/53 [==============================] - 0s 5ms/step - loss: 0.5696 - accuracy: 0.7137 - f1_m: 0.7068 - precision_m: 0.7419 - recall_m: 0.7086\n",
            "Epoch 48/100\n",
            "53/53 [==============================] - 0s 6ms/step - loss: 0.5691 - accuracy: 0.7137 - f1_m: 0.7037 - precision_m: 0.7577 - recall_m: 0.7040\n",
            "Epoch 49/100\n",
            "53/53 [==============================] - 0s 6ms/step - loss: 0.5681 - accuracy: 0.7156 - f1_m: 0.7042 - precision_m: 0.7000 - recall_m: 0.7499\n",
            "Epoch 50/100\n",
            "53/53 [==============================] - 0s 5ms/step - loss: 0.5671 - accuracy: 0.7233 - f1_m: 0.7472 - precision_m: 0.7317 - recall_m: 0.7916\n",
            "Epoch 51/100\n",
            "53/53 [==============================] - 0s 4ms/step - loss: 0.5665 - accuracy: 0.6985 - f1_m: 0.6916 - precision_m: 0.7211 - recall_m: 0.6971\n",
            "Epoch 52/100\n",
            "53/53 [==============================] - 0s 4ms/step - loss: 0.5655 - accuracy: 0.7214 - f1_m: 0.7405 - precision_m: 0.7397 - recall_m: 0.7764\n",
            "Epoch 53/100\n",
            "53/53 [==============================] - 0s 5ms/step - loss: 0.5648 - accuracy: 0.7156 - f1_m: 0.7258 - precision_m: 0.7198 - recall_m: 0.7620\n",
            "Epoch 54/100\n",
            "53/53 [==============================] - 0s 7ms/step - loss: 0.5641 - accuracy: 0.7099 - f1_m: 0.7105 - precision_m: 0.7504 - recall_m: 0.7117\n",
            "Epoch 55/100\n",
            "53/53 [==============================] - 0s 9ms/step - loss: 0.5639 - accuracy: 0.7233 - f1_m: 0.7344 - precision_m: 0.7342 - recall_m: 0.7807\n",
            "Epoch 56/100\n",
            "53/53 [==============================] - 0s 5ms/step - loss: 0.5628 - accuracy: 0.7195 - f1_m: 0.7274 - precision_m: 0.7403 - recall_m: 0.7601\n",
            "Epoch 57/100\n",
            "53/53 [==============================] - 0s 9ms/step - loss: 0.5621 - accuracy: 0.7099 - f1_m: 0.7217 - precision_m: 0.7460 - recall_m: 0.7378\n",
            "Epoch 58/100\n",
            "53/53 [==============================] - 0s 6ms/step - loss: 0.5614 - accuracy: 0.7233 - f1_m: 0.7500 - precision_m: 0.7373 - recall_m: 0.8050\n",
            "Epoch 59/100\n",
            "53/53 [==============================] - 0s 6ms/step - loss: 0.5610 - accuracy: 0.7233 - f1_m: 0.7412 - precision_m: 0.7295 - recall_m: 0.7908\n",
            "Epoch 60/100\n",
            "53/53 [==============================] - 0s 7ms/step - loss: 0.5602 - accuracy: 0.7233 - f1_m: 0.7312 - precision_m: 0.7152 - recall_m: 0.7818\n",
            "Epoch 61/100\n",
            "53/53 [==============================] - 0s 3ms/step - loss: 0.5598 - accuracy: 0.7233 - f1_m: 0.7418 - precision_m: 0.7276 - recall_m: 0.7961\n",
            "Epoch 62/100\n",
            "53/53 [==============================] - 0s 5ms/step - loss: 0.5589 - accuracy: 0.7233 - f1_m: 0.7399 - precision_m: 0.7271 - recall_m: 0.7868\n",
            "Epoch 63/100\n",
            "53/53 [==============================] - 0s 4ms/step - loss: 0.5584 - accuracy: 0.7233 - f1_m: 0.7418 - precision_m: 0.7319 - recall_m: 0.7848\n",
            "Epoch 64/100\n",
            "53/53 [==============================] - 0s 3ms/step - loss: 0.5581 - accuracy: 0.7233 - f1_m: 0.7325 - precision_m: 0.7260 - recall_m: 0.7683\n",
            "Epoch 65/100\n",
            "53/53 [==============================] - 0s 3ms/step - loss: 0.5572 - accuracy: 0.7233 - f1_m: 0.7353 - precision_m: 0.7262 - recall_m: 0.7939\n",
            "Epoch 66/100\n",
            "53/53 [==============================] - 0s 4ms/step - loss: 0.5570 - accuracy: 0.7233 - f1_m: 0.7393 - precision_m: 0.7298 - recall_m: 0.7913\n",
            "Epoch 67/100\n",
            "53/53 [==============================] - 0s 4ms/step - loss: 0.5562 - accuracy: 0.7233 - f1_m: 0.7437 - precision_m: 0.7294 - recall_m: 0.7936\n",
            "Epoch 68/100\n",
            "53/53 [==============================] - 0s 4ms/step - loss: 0.5555 - accuracy: 0.7233 - f1_m: 0.7420 - precision_m: 0.7355 - recall_m: 0.7890\n",
            "Epoch 69/100\n",
            "53/53 [==============================] - 0s 4ms/step - loss: 0.5551 - accuracy: 0.7233 - f1_m: 0.7335 - precision_m: 0.7305 - recall_m: 0.7839\n",
            "Epoch 70/100\n",
            "53/53 [==============================] - 0s 4ms/step - loss: 0.5548 - accuracy: 0.7233 - f1_m: 0.7348 - precision_m: 0.7171 - recall_m: 0.7908\n",
            "Epoch 71/100\n",
            "53/53 [==============================] - 0s 4ms/step - loss: 0.5543 - accuracy: 0.7233 - f1_m: 0.7308 - precision_m: 0.7232 - recall_m: 0.7784\n",
            "Epoch 72/100\n",
            "53/53 [==============================] - 0s 4ms/step - loss: 0.5536 - accuracy: 0.7233 - f1_m: 0.7243 - precision_m: 0.7151 - recall_m: 0.7730\n",
            "Epoch 73/100\n",
            "53/53 [==============================] - 0s 2ms/step - loss: 0.5532 - accuracy: 0.7233 - f1_m: 0.7211 - precision_m: 0.7034 - recall_m: 0.7714\n",
            "Epoch 74/100\n",
            "53/53 [==============================] - 0s 2ms/step - loss: 0.5528 - accuracy: 0.7233 - f1_m: 0.7448 - precision_m: 0.7370 - recall_m: 0.8062\n",
            "Epoch 75/100\n",
            "53/53 [==============================] - 0s 2ms/step - loss: 0.5527 - accuracy: 0.7233 - f1_m: 0.7439 - precision_m: 0.7300 - recall_m: 0.7908\n",
            "Epoch 76/100\n",
            "53/53 [==============================] - 0s 2ms/step - loss: 0.5520 - accuracy: 0.7233 - f1_m: 0.7410 - precision_m: 0.7274 - recall_m: 0.7914\n",
            "Epoch 77/100\n",
            "53/53 [==============================] - 0s 2ms/step - loss: 0.5513 - accuracy: 0.7233 - f1_m: 0.7357 - precision_m: 0.7189 - recall_m: 0.7821\n",
            "Epoch 78/100\n",
            "53/53 [==============================] - 0s 2ms/step - loss: 0.5513 - accuracy: 0.7233 - f1_m: 0.7358 - precision_m: 0.7261 - recall_m: 0.7878\n",
            "Epoch 79/100\n",
            "53/53 [==============================] - 0s 2ms/step - loss: 0.5505 - accuracy: 0.7233 - f1_m: 0.7325 - precision_m: 0.7135 - recall_m: 0.7864\n",
            "Epoch 80/100\n",
            "53/53 [==============================] - 0s 2ms/step - loss: 0.5501 - accuracy: 0.7233 - f1_m: 0.7319 - precision_m: 0.7230 - recall_m: 0.7794\n",
            "Epoch 81/100\n",
            "53/53 [==============================] - 0s 2ms/step - loss: 0.5499 - accuracy: 0.7233 - f1_m: 0.7325 - precision_m: 0.7132 - recall_m: 0.7917\n",
            "Epoch 82/100\n",
            "53/53 [==============================] - 0s 2ms/step - loss: 0.5494 - accuracy: 0.7233 - f1_m: 0.7312 - precision_m: 0.7151 - recall_m: 0.7805\n",
            "Epoch 83/100\n",
            "53/53 [==============================] - 0s 2ms/step - loss: 0.5490 - accuracy: 0.7233 - f1_m: 0.7316 - precision_m: 0.7182 - recall_m: 0.7782\n",
            "Epoch 84/100\n",
            "53/53 [==============================] - 0s 2ms/step - loss: 0.5487 - accuracy: 0.7233 - f1_m: 0.7394 - precision_m: 0.7204 - recall_m: 0.7907\n",
            "Epoch 85/100\n",
            "53/53 [==============================] - 0s 2ms/step - loss: 0.5485 - accuracy: 0.7233 - f1_m: 0.7179 - precision_m: 0.6967 - recall_m: 0.7664\n",
            "Epoch 86/100\n",
            "53/53 [==============================] - 0s 2ms/step - loss: 0.5482 - accuracy: 0.7233 - f1_m: 0.7185 - precision_m: 0.7046 - recall_m: 0.7624\n",
            "Epoch 87/100\n",
            "53/53 [==============================] - 0s 2ms/step - loss: 0.5478 - accuracy: 0.7233 - f1_m: 0.7299 - precision_m: 0.7208 - recall_m: 0.7752\n",
            "Epoch 88/100\n",
            "53/53 [==============================] - 0s 2ms/step - loss: 0.5473 - accuracy: 0.7233 - f1_m: 0.7374 - precision_m: 0.7281 - recall_m: 0.7900\n",
            "Epoch 89/100\n",
            "53/53 [==============================] - 0s 2ms/step - loss: 0.5472 - accuracy: 0.7233 - f1_m: 0.7363 - precision_m: 0.7256 - recall_m: 0.7879\n",
            "Epoch 90/100\n",
            "53/53 [==============================] - 0s 2ms/step - loss: 0.5467 - accuracy: 0.7233 - f1_m: 0.7452 - precision_m: 0.7352 - recall_m: 0.7978\n",
            "Epoch 91/100\n",
            "53/53 [==============================] - 0s 2ms/step - loss: 0.5464 - accuracy: 0.7233 - f1_m: 0.7303 - precision_m: 0.7195 - recall_m: 0.7762\n",
            "Epoch 92/100\n",
            "53/53 [==============================] - 0s 2ms/step - loss: 0.5460 - accuracy: 0.7233 - f1_m: 0.7405 - precision_m: 0.7216 - recall_m: 0.7969\n",
            "Epoch 93/100\n",
            "53/53 [==============================] - 0s 2ms/step - loss: 0.5460 - accuracy: 0.7233 - f1_m: 0.7391 - precision_m: 0.7324 - recall_m: 0.7931\n",
            "Epoch 94/100\n",
            "53/53 [==============================] - 0s 2ms/step - loss: 0.5455 - accuracy: 0.7233 - f1_m: 0.7344 - precision_m: 0.7119 - recall_m: 0.7868\n",
            "Epoch 95/100\n",
            "53/53 [==============================] - 0s 2ms/step - loss: 0.5453 - accuracy: 0.7233 - f1_m: 0.7447 - precision_m: 0.7396 - recall_m: 0.7948\n",
            "Epoch 96/100\n",
            "53/53 [==============================] - 0s 2ms/step - loss: 0.5450 - accuracy: 0.7233 - f1_m: 0.7416 - precision_m: 0.7315 - recall_m: 0.7820\n",
            "Epoch 97/100\n",
            "53/53 [==============================] - 0s 2ms/step - loss: 0.5446 - accuracy: 0.7233 - f1_m: 0.7259 - precision_m: 0.7131 - recall_m: 0.7687\n",
            "Epoch 98/100\n",
            "53/53 [==============================] - 0s 2ms/step - loss: 0.5449 - accuracy: 0.7233 - f1_m: 0.7329 - precision_m: 0.7241 - recall_m: 0.7793\n",
            "Epoch 99/100\n",
            "53/53 [==============================] - 0s 2ms/step - loss: 0.5441 - accuracy: 0.7233 - f1_m: 0.7444 - precision_m: 0.7337 - recall_m: 0.7958\n",
            "Epoch 100/100\n",
            "53/53 [==============================] - 0s 2ms/step - loss: 0.5438 - accuracy: 0.7233 - f1_m: 0.7430 - precision_m: 0.7238 - recall_m: 0.7900\n"
          ]
        }
      ]
    },
    {
      "cell_type": "code",
      "source": [
        "# Evaluacion del modelo con los datos de prueba\n",
        "scores = network.evaluate(X_test, y_test, verbose=0)\n",
        "# Presentacion de Accurary del modelo\n",
        "print(\"\\n%s: %.2f%%\" % (network.metrics_names[1], scores[1]*100))\n",
        "# Presentacion de F1 del modelo\n",
        "print(\"\\n%s: %.2f%%\" % (network.metrics_names[2], scores[2]*100))\n",
        "# Presentacion de la Precision del modelo\n",
        "print(\"\\n%s: %.2f%%\" % (network.metrics_names[3], scores[3]*100))\n",
        "# Presentacion del Recall del modelo\n",
        "print(\"\\n%s: %.2f%%\" % (network.metrics_names[4], scores[4]*100))"
      ],
      "metadata": {
        "colab": {
          "base_uri": "https://localhost:8080/"
        },
        "id": "a3-jMBQ65r1i",
        "outputId": "639c073a-1b83-4182-e497-2dfb28923d06"
      },
      "execution_count": 7,
      "outputs": [
        {
          "output_type": "stream",
          "name": "stdout",
          "text": [
            "\n",
            "accuracy: 68.89%\n",
            "\n",
            "f1_m: 62.95%\n",
            "\n",
            "precision_m: 58.75%\n",
            "\n",
            "recall_m: 70.93%\n"
          ]
        }
      ]
    },
    {
      "cell_type": "code",
      "source": [
        "# Grafico de la funcion de perdida y el valor del accuracy en funcion del \n",
        "# numero de epochs\n",
        "plt.xlabel(\"# Epoca\")\n",
        "plt.ylabel(\"Magnitud de perdida y Accuracy\")\n",
        "plt.plot(Hist.history[\"loss\"])\n",
        "plt.plot(Hist.history[\"accuracy\"])"
      ],
      "metadata": {
        "colab": {
          "base_uri": "https://localhost:8080/",
          "height": 296
        },
        "id": "2Ch6708O3b_r",
        "outputId": "f13b2f64-0066-410c-a629-8622ca2cd221"
      },
      "execution_count": 8,
      "outputs": [
        {
          "output_type": "execute_result",
          "data": {
            "text/plain": [
              "[<matplotlib.lines.Line2D at 0x7f7a243306d0>]"
            ]
          },
          "metadata": {},
          "execution_count": 8
        },
        {
          "output_type": "display_data",
          "data": {
            "image/png": "[encoded data removed]",
            "text/plain": [
              "<Figure size 432x288 with 1 Axes>"
            ]
          },
          "metadata": {
            "needs_background": "light"
          }
        }
      ]
    },
    {
      "cell_type": "code",
      "source": [
        "# Se obtiene los valores de prediccion y se grafica la \n",
        "# matriz de confusion\n",
        "y_pred = network.predict(X_test)\n",
        "y_pred =(y_pred>0.5)\n",
        "list(y_pred)\n",
        "cm = confusion_matrix(y_test, y_pred)\n",
        "cm"
      ],
      "metadata": {
        "colab": {
          "base_uri": "https://localhost:8080/"
        },
        "id": "actmTSxu3L30",
        "outputId": "563b5fb4-117f-4425-90f6-1aeac4ea82a2"
      },
      "execution_count": 9,
      "outputs": [
        {
          "output_type": "execute_result",
          "data": {
            "text/plain": [
              "array([[62, 46],\n",
              "       [24, 93]])"
            ]
          },
          "metadata": {},
          "execution_count": 9
        }
      ]
    },
    {
      "cell_type": "code",
      "source": [
        "#Graficacion de la matriz de confusion\n",
        "ax = sns.heatmap(cm, annot=True, cmap='Blues')\n",
        "# etiquetas de X e Y\n",
        "ax.set_title('Matrix Confusion');\n",
        "ax.set_xlabel('Y_Pred')\n",
        "ax.set_ylabel('Y_Actual');\n",
        "\n",
        "# Sub etiquetas de X e Y\n",
        "ax.xaxis.set_ticklabels([\"False\",\"True\"])\n",
        "ax.yaxis.set_ticklabels([\"False\",\"True\"])\n",
        "\n",
        "# Se manda a visuluzar la matriz de confusion.\n",
        "plt.show()"
      ],
      "metadata": {
        "colab": {
          "base_uri": "https://localhost:8080/",
          "height": 296
        },
        "id": "IYOBzqij3PT7",
        "outputId": "1b01a5a0-0411-4bde-b983-62693c37c0b1"
      },
      "execution_count": 10,
      "outputs": [
        {
          "output_type": "display_data",
          "data": {
            "image/png": "[encoded data removed]",
            "text/plain": [
              "<Figure size 432x288 with 2 Axes>"
            ]
          },
          "metadata": {
            "needs_background": "light"
          }
        }
      ]
    },
    {
      "cell_type": "code",
      "source": [
        "# Se establece la funcion de la red neuronal para ser utilizada por el \n",
        "# CrossFolding\n",
        "def create_network():\n",
        "    network = models.Sequential()\n",
        "    network.add(layers.Dense(units=5, activation='relu', input_shape=(5,)))\n",
        "    network.add(layers.Dense(units=1,activation='sigmoid'))\n",
        "    network.compile(loss='binary_crossentropy', #mean_squared_error\n",
        "                    optimizer='Adam', # Root Mean Square Propagation\n",
        "                    metrics=['accuracy',f1_m,precision_m, recall_m]) # Accuracy performance metric \n",
        "    return network"
      ],
      "metadata": {
        "id": "dYEs3gBmx6MN"
      },
      "execution_count": 11,
      "outputs": []
    },
    {
      "cell_type": "code",
      "source": [
        "\n",
        "neural_network = KerasClassifier(build_fn=create_network, \n",
        "                                 epochs=200, \n",
        "                                 batch_size=10, \n",
        "                                 verbose=0)"
      ],
      "metadata": {
        "colab": {
          "base_uri": "https://localhost:8080/"
        },
        "id": "n8KQ5YAf8yJ-",
        "outputId": "fbd1c18c-4df0-4d51-948c-5cb0b89e45f1"
      },
      "execution_count": 12,
      "outputs": [
        {
          "output_type": "stream",
          "name": "stderr",
          "text": [
            "/usr/local/lib/python3.7/dist-packages/ipykernel_launcher.py:5: DeprecationWarning: KerasClassifier is deprecated, use Sci-Keras (https://github.com/adriangb/scikeras) instead. See https://www.adriangb.com/scikeras/stable/migration.html for help migrating.\n",
            "  \"\"\"\n"
          ]
        }
      ]
    },
    {
      "cell_type": "code",
      "source": [
        "# Evaluar la red neuronal utilizando la validación cruzada three-fold cross-validation\n",
        "cross_val_score(neural_network, X_test, y_test, cv=3)"
      ],
      "metadata": {
        "colab": {
          "base_uri": "https://localhost:8080/"
        },
        "id": "mCvVm-xb8yHW",
        "outputId": "6905b76d-3d70-4193-a6f6-20582cfceed5"
      },
      "execution_count": 13,
      "outputs": [
        {
          "output_type": "execute_result",
          "data": {
            "text/plain": [
              "array([0.62666667, 0.58666664, 0.61333334])"
            ]
          },
          "metadata": {},
          "execution_count": 13
        }
      ]
    },
    {
      "cell_type": "code",
      "source": [
        "# Se pasan los valores de entrada a la red, y esta se encarga de predecir el estilo a vestir\n",
        "X_new = pd.DataFrame({'Animado': [0], 'Confiable': [0], 'Extravertido': [0], 'Responsable': [0], 'Serio': [1]})\n"
      ],
      "metadata": {
        "id": "cyhKF-RPBXCg"
      },
      "execution_count": 14,
      "outputs": []
    },
    {
      "cell_type": "code",
      "source": [
        "\n",
        "Resultado= network.predict([X_new])\n",
        "out= Resultado.round().astype(int)\n",
        "if out == 1:\n",
        "  print(\"Su estilo es casual\")\n",
        "if out == 0:\n",
        "  print(\"Su estilo es modesto\")"
      ],
      "metadata": {
        "colab": {
          "base_uri": "https://localhost:8080/"
        },
        "id": "UcxEz3uSJn2J",
        "outputId": "99fcb905-4e59-4fd4-bc9e-2358565fb7fa"
      },
      "execution_count": 15,
      "outputs": [
        {
          "output_type": "stream",
          "name": "stdout",
          "text": [
            "Su estilo es casual\n"
          ]
        }
      ]
    }
  ]
}